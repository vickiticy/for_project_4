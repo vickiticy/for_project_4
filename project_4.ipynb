{
 "cells": [
  {
   "cell_type": "markdown",
   "metadata": {},
   "source": [
    "# Проект 4\n",
    "\n",
    "**Продакт-менеджер Василий попросил вас проанализировать совершенные покупки и ответить на вопросы.**"
   ]
  },
  {
   "cell_type": "markdown",
   "metadata": {},
   "source": [
    "<div class=\"alert alert-block alert-danger\"\n",
    "<b>\n",
    "<ol>\n",
    "    \n",
    "**Задача 1**\n",
    "\n",
    "Сколько пользователей, которые совершили покупку только один раз?\n",
    "\n",
    "</ol>\n",
    "</b>\n",
    "</div>"
   ]
  },
  {
   "cell_type": "markdown",
   "metadata": {},
   "source": [
    "<div class=\"alert alert-block alert-info\"\n",
    "<b>\n",
    "Для начала подключим необходимые библиотеки\n",
    "</b>\n",
    "</div"
   ]
  },
  {
   "cell_type": "code",
   "execution_count": 32,
   "metadata": {},
   "outputs": [],
   "source": [
    "import pandas as pd\n",
    "from operator import attrgetter\n",
    "import seaborn as sns\n",
    "import matplotlib.pyplot as plt\n",
    "import warnings\n",
    "warnings.filterwarnings('ignore')\n",
    "import requests \n",
    "from urllib.parse import urlencode\n",
    "from datetime import timedelta"
   ]
  },
  {
   "cell_type": "markdown",
   "metadata": {},
   "source": [
    "<div class=\"alert alert-block alert-info\"\n",
    "<b>\n",
    "Данные предоставили в виде файла, загруженного на Яндекс Диск. Подгрузим их.\n",
    "</b>\n",
    "</div"
   ]
  },
  {
   "cell_type": "code",
   "execution_count": 2,
   "metadata": {},
   "outputs": [],
   "source": [
    "# используем api \n",
    "base_url = 'https://cloud-api.yandex.net/v1/disk/public/resources/download?' \n",
    "public_key_customers = 'https://disk.yandex.ru/d/QXrVDUoQvFhIcg'  \n",
    "public_key_orders = 'https://disk.yandex.ru/d/0zWmh1bYP6REbw'\n",
    "public_key_items = 'https://disk.yandex.ru/d/xCsQ0FiC-Ue4Lg'\n",
    "    \n",
    "    \n",
    "# получаем url \n",
    "final_url_customers = base_url + urlencode(dict(public_key=public_key_customers)) \n",
    "final_url_orders = base_url + urlencode(dict(public_key=public_key_orders)) \n",
    "final_url_items = base_url + urlencode(dict(public_key=public_key_items)) \n",
    "\n",
    "response_customers = requests.get(final_url_customers) \n",
    "response_orders = requests.get(final_url_orders) \n",
    "response_items = requests.get(final_url_items)\n",
    "\n",
    "download_url_customers = response_customers.json()['href'] \n",
    "download_url_orders = response_orders.json()['href'] \n",
    "download_url_items = response_items.json()['href'] \n",
    "        \n",
    "# загружаем файлы  \n",
    "download_response_customers = requests.get(download_url_customers) \n",
    "download_response_orders = requests.get(download_url_orders) \n",
    "download_response_items = requests.get(download_url_items) \n",
    "\n",
    "customers = pd.read_csv(download_url_customers) \n",
    "orders = pd.read_csv(download_url_orders,parse_dates=['order_delivered_carrier_date','order_delivered_customer_date',\\\n",
    "    'order_estimated_delivery_date','order_purchase_timestamp','order_approved_at']) \n",
    "items = pd.read_csv(download_url_items,parse_dates=['shipping_limit_date']) "
   ]
  },
  {
   "cell_type": "markdown",
   "metadata": {},
   "source": [
    "<div class=\"alert alert-block alert-info\"\n",
    "<b>\n",
    "Далее проведем предварительную проверку данных:\n",
    "\n",
    "* посмотрим на датафреймы\n",
    "\n",
    "</b>\n",
    "</div"
   ]
  },
  {
   "cell_type": "code",
   "execution_count": 3,
   "metadata": {},
   "outputs": [
    {
     "data": {
      "text/html": [
       "<div>\n",
       "<style scoped>\n",
       "    .dataframe tbody tr th:only-of-type {\n",
       "        vertical-align: middle;\n",
       "    }\n",
       "\n",
       "    .dataframe tbody tr th {\n",
       "        vertical-align: top;\n",
       "    }\n",
       "\n",
       "    .dataframe thead th {\n",
       "        text-align: right;\n",
       "    }\n",
       "</style>\n",
       "<table border=\"1\" class=\"dataframe\">\n",
       "  <thead>\n",
       "    <tr style=\"text-align: right;\">\n",
       "      <th></th>\n",
       "      <th>customer_id</th>\n",
       "      <th>customer_unique_id</th>\n",
       "      <th>customer_zip_code_prefix</th>\n",
       "      <th>customer_city</th>\n",
       "      <th>customer_state</th>\n",
       "    </tr>\n",
       "  </thead>\n",
       "  <tbody>\n",
       "    <tr>\n",
       "      <th>0</th>\n",
       "      <td>06b8999e2fba1a1fbc88172c00ba8bc7</td>\n",
       "      <td>861eff4711a542e4b93843c6dd7febb0</td>\n",
       "      <td>14409</td>\n",
       "      <td>franca</td>\n",
       "      <td>SP</td>\n",
       "    </tr>\n",
       "    <tr>\n",
       "      <th>1</th>\n",
       "      <td>18955e83d337fd6b2def6b18a428ac77</td>\n",
       "      <td>290c77bc529b7ac935b93aa66c333dc3</td>\n",
       "      <td>9790</td>\n",
       "      <td>sao bernardo do campo</td>\n",
       "      <td>SP</td>\n",
       "    </tr>\n",
       "    <tr>\n",
       "      <th>2</th>\n",
       "      <td>4e7b3e00288586ebd08712fdd0374a03</td>\n",
       "      <td>060e732b5b29e8181a18229c7b0b2b5e</td>\n",
       "      <td>1151</td>\n",
       "      <td>sao paulo</td>\n",
       "      <td>SP</td>\n",
       "    </tr>\n",
       "    <tr>\n",
       "      <th>3</th>\n",
       "      <td>b2b6027bc5c5109e529d4dc6358b12c3</td>\n",
       "      <td>259dac757896d24d7702b9acbbff3f3c</td>\n",
       "      <td>8775</td>\n",
       "      <td>mogi das cruzes</td>\n",
       "      <td>SP</td>\n",
       "    </tr>\n",
       "    <tr>\n",
       "      <th>4</th>\n",
       "      <td>4f2d8ab171c80ec8364f7c12e35b23ad</td>\n",
       "      <td>345ecd01c38d18a9036ed96c73b8d066</td>\n",
       "      <td>13056</td>\n",
       "      <td>campinas</td>\n",
       "      <td>SP</td>\n",
       "    </tr>\n",
       "  </tbody>\n",
       "</table>\n",
       "</div>"
      ],
      "text/plain": [
       "                        customer_id                customer_unique_id  \\\n",
       "0  06b8999e2fba1a1fbc88172c00ba8bc7  861eff4711a542e4b93843c6dd7febb0   \n",
       "1  18955e83d337fd6b2def6b18a428ac77  290c77bc529b7ac935b93aa66c333dc3   \n",
       "2  4e7b3e00288586ebd08712fdd0374a03  060e732b5b29e8181a18229c7b0b2b5e   \n",
       "3  b2b6027bc5c5109e529d4dc6358b12c3  259dac757896d24d7702b9acbbff3f3c   \n",
       "4  4f2d8ab171c80ec8364f7c12e35b23ad  345ecd01c38d18a9036ed96c73b8d066   \n",
       "\n",
       "   customer_zip_code_prefix          customer_city customer_state  \n",
       "0                     14409                 franca             SP  \n",
       "1                      9790  sao bernardo do campo             SP  \n",
       "2                      1151              sao paulo             SP  \n",
       "3                      8775        mogi das cruzes             SP  \n",
       "4                     13056               campinas             SP  "
      ]
     },
     "execution_count": 3,
     "metadata": {},
     "output_type": "execute_result"
    }
   ],
   "source": [
    "customers.head() "
   ]
  },
  {
   "cell_type": "markdown",
   "metadata": {},
   "source": [
    "        "
   ]
  },
  {
   "cell_type": "code",
   "execution_count": 4,
   "metadata": {},
   "outputs": [
    {
     "data": {
      "text/html": [
       "<div>\n",
       "<style scoped>\n",
       "    .dataframe tbody tr th:only-of-type {\n",
       "        vertical-align: middle;\n",
       "    }\n",
       "\n",
       "    .dataframe tbody tr th {\n",
       "        vertical-align: top;\n",
       "    }\n",
       "\n",
       "    .dataframe thead th {\n",
       "        text-align: right;\n",
       "    }\n",
       "</style>\n",
       "<table border=\"1\" class=\"dataframe\">\n",
       "  <thead>\n",
       "    <tr style=\"text-align: right;\">\n",
       "      <th></th>\n",
       "      <th>order_id</th>\n",
       "      <th>customer_id</th>\n",
       "      <th>order_status</th>\n",
       "      <th>order_purchase_timestamp</th>\n",
       "      <th>order_approved_at</th>\n",
       "      <th>order_delivered_carrier_date</th>\n",
       "      <th>order_delivered_customer_date</th>\n",
       "      <th>order_estimated_delivery_date</th>\n",
       "    </tr>\n",
       "  </thead>\n",
       "  <tbody>\n",
       "    <tr>\n",
       "      <th>0</th>\n",
       "      <td>e481f51cbdc54678b7cc49136f2d6af7</td>\n",
       "      <td>9ef432eb6251297304e76186b10a928d</td>\n",
       "      <td>delivered</td>\n",
       "      <td>2017-10-02 10:56:33</td>\n",
       "      <td>2017-10-02 11:07:15</td>\n",
       "      <td>2017-10-04 19:55:00</td>\n",
       "      <td>2017-10-10 21:25:13</td>\n",
       "      <td>2017-10-18</td>\n",
       "    </tr>\n",
       "    <tr>\n",
       "      <th>1</th>\n",
       "      <td>53cdb2fc8bc7dce0b6741e2150273451</td>\n",
       "      <td>b0830fb4747a6c6d20dea0b8c802d7ef</td>\n",
       "      <td>delivered</td>\n",
       "      <td>2018-07-24 20:41:37</td>\n",
       "      <td>2018-07-26 03:24:27</td>\n",
       "      <td>2018-07-26 14:31:00</td>\n",
       "      <td>2018-08-07 15:27:45</td>\n",
       "      <td>2018-08-13</td>\n",
       "    </tr>\n",
       "    <tr>\n",
       "      <th>2</th>\n",
       "      <td>47770eb9100c2d0c44946d9cf07ec65d</td>\n",
       "      <td>41ce2a54c0b03bf3443c3d931a367089</td>\n",
       "      <td>delivered</td>\n",
       "      <td>2018-08-08 08:38:49</td>\n",
       "      <td>2018-08-08 08:55:23</td>\n",
       "      <td>2018-08-08 13:50:00</td>\n",
       "      <td>2018-08-17 18:06:29</td>\n",
       "      <td>2018-09-04</td>\n",
       "    </tr>\n",
       "    <tr>\n",
       "      <th>3</th>\n",
       "      <td>949d5b44dbf5de918fe9c16f97b45f8a</td>\n",
       "      <td>f88197465ea7920adcdbec7375364d82</td>\n",
       "      <td>delivered</td>\n",
       "      <td>2017-11-18 19:28:06</td>\n",
       "      <td>2017-11-18 19:45:59</td>\n",
       "      <td>2017-11-22 13:39:59</td>\n",
       "      <td>2017-12-02 00:28:42</td>\n",
       "      <td>2017-12-15</td>\n",
       "    </tr>\n",
       "    <tr>\n",
       "      <th>4</th>\n",
       "      <td>ad21c59c0840e6cb83a9ceb5573f8159</td>\n",
       "      <td>8ab97904e6daea8866dbdbc4fb7aad2c</td>\n",
       "      <td>delivered</td>\n",
       "      <td>2018-02-13 21:18:39</td>\n",
       "      <td>2018-02-13 22:20:29</td>\n",
       "      <td>2018-02-14 19:46:34</td>\n",
       "      <td>2018-02-16 18:17:02</td>\n",
       "      <td>2018-02-26</td>\n",
       "    </tr>\n",
       "  </tbody>\n",
       "</table>\n",
       "</div>"
      ],
      "text/plain": [
       "                           order_id                       customer_id  \\\n",
       "0  e481f51cbdc54678b7cc49136f2d6af7  9ef432eb6251297304e76186b10a928d   \n",
       "1  53cdb2fc8bc7dce0b6741e2150273451  b0830fb4747a6c6d20dea0b8c802d7ef   \n",
       "2  47770eb9100c2d0c44946d9cf07ec65d  41ce2a54c0b03bf3443c3d931a367089   \n",
       "3  949d5b44dbf5de918fe9c16f97b45f8a  f88197465ea7920adcdbec7375364d82   \n",
       "4  ad21c59c0840e6cb83a9ceb5573f8159  8ab97904e6daea8866dbdbc4fb7aad2c   \n",
       "\n",
       "  order_status order_purchase_timestamp   order_approved_at  \\\n",
       "0    delivered      2017-10-02 10:56:33 2017-10-02 11:07:15   \n",
       "1    delivered      2018-07-24 20:41:37 2018-07-26 03:24:27   \n",
       "2    delivered      2018-08-08 08:38:49 2018-08-08 08:55:23   \n",
       "3    delivered      2017-11-18 19:28:06 2017-11-18 19:45:59   \n",
       "4    delivered      2018-02-13 21:18:39 2018-02-13 22:20:29   \n",
       "\n",
       "  order_delivered_carrier_date order_delivered_customer_date  \\\n",
       "0          2017-10-04 19:55:00           2017-10-10 21:25:13   \n",
       "1          2018-07-26 14:31:00           2018-08-07 15:27:45   \n",
       "2          2018-08-08 13:50:00           2018-08-17 18:06:29   \n",
       "3          2017-11-22 13:39:59           2017-12-02 00:28:42   \n",
       "4          2018-02-14 19:46:34           2018-02-16 18:17:02   \n",
       "\n",
       "  order_estimated_delivery_date  \n",
       "0                    2017-10-18  \n",
       "1                    2018-08-13  \n",
       "2                    2018-09-04  \n",
       "3                    2017-12-15  \n",
       "4                    2018-02-26  "
      ]
     },
     "execution_count": 4,
     "metadata": {},
     "output_type": "execute_result"
    }
   ],
   "source": [
    "orders.head()"
   ]
  },
  {
   "cell_type": "markdown",
   "metadata": {},
   "source": [
    "    "
   ]
  },
  {
   "cell_type": "code",
   "execution_count": 5,
   "metadata": {},
   "outputs": [
    {
     "data": {
      "text/html": [
       "<div>\n",
       "<style scoped>\n",
       "    .dataframe tbody tr th:only-of-type {\n",
       "        vertical-align: middle;\n",
       "    }\n",
       "\n",
       "    .dataframe tbody tr th {\n",
       "        vertical-align: top;\n",
       "    }\n",
       "\n",
       "    .dataframe thead th {\n",
       "        text-align: right;\n",
       "    }\n",
       "</style>\n",
       "<table border=\"1\" class=\"dataframe\">\n",
       "  <thead>\n",
       "    <tr style=\"text-align: right;\">\n",
       "      <th></th>\n",
       "      <th>order_id</th>\n",
       "      <th>order_item_id</th>\n",
       "      <th>product_id</th>\n",
       "      <th>seller_id</th>\n",
       "      <th>shipping_limit_date</th>\n",
       "      <th>price</th>\n",
       "      <th>freight_value</th>\n",
       "    </tr>\n",
       "  </thead>\n",
       "  <tbody>\n",
       "    <tr>\n",
       "      <th>0</th>\n",
       "      <td>00010242fe8c5a6d1ba2dd792cb16214</td>\n",
       "      <td>1</td>\n",
       "      <td>4244733e06e7ecb4970a6e2683c13e61</td>\n",
       "      <td>48436dade18ac8b2bce089ec2a041202</td>\n",
       "      <td>2017-09-19 09:45:35</td>\n",
       "      <td>58.90</td>\n",
       "      <td>13.29</td>\n",
       "    </tr>\n",
       "    <tr>\n",
       "      <th>1</th>\n",
       "      <td>00018f77f2f0320c557190d7a144bdd3</td>\n",
       "      <td>1</td>\n",
       "      <td>e5f2d52b802189ee658865ca93d83a8f</td>\n",
       "      <td>dd7ddc04e1b6c2c614352b383efe2d36</td>\n",
       "      <td>2017-05-03 11:05:13</td>\n",
       "      <td>239.90</td>\n",
       "      <td>19.93</td>\n",
       "    </tr>\n",
       "    <tr>\n",
       "      <th>2</th>\n",
       "      <td>000229ec398224ef6ca0657da4fc703e</td>\n",
       "      <td>1</td>\n",
       "      <td>c777355d18b72b67abbeef9df44fd0fd</td>\n",
       "      <td>5b51032eddd242adc84c38acab88f23d</td>\n",
       "      <td>2018-01-18 14:48:30</td>\n",
       "      <td>199.00</td>\n",
       "      <td>17.87</td>\n",
       "    </tr>\n",
       "    <tr>\n",
       "      <th>3</th>\n",
       "      <td>00024acbcdf0a6daa1e931b038114c75</td>\n",
       "      <td>1</td>\n",
       "      <td>7634da152a4610f1595efa32f14722fc</td>\n",
       "      <td>9d7a1d34a5052409006425275ba1c2b4</td>\n",
       "      <td>2018-08-15 10:10:18</td>\n",
       "      <td>12.99</td>\n",
       "      <td>12.79</td>\n",
       "    </tr>\n",
       "    <tr>\n",
       "      <th>4</th>\n",
       "      <td>00042b26cf59d7ce69dfabb4e55b4fd9</td>\n",
       "      <td>1</td>\n",
       "      <td>ac6c3623068f30de03045865e4e10089</td>\n",
       "      <td>df560393f3a51e74553ab94004ba5c87</td>\n",
       "      <td>2017-02-13 13:57:51</td>\n",
       "      <td>199.90</td>\n",
       "      <td>18.14</td>\n",
       "    </tr>\n",
       "  </tbody>\n",
       "</table>\n",
       "</div>"
      ],
      "text/plain": [
       "                           order_id  order_item_id  \\\n",
       "0  00010242fe8c5a6d1ba2dd792cb16214              1   \n",
       "1  00018f77f2f0320c557190d7a144bdd3              1   \n",
       "2  000229ec398224ef6ca0657da4fc703e              1   \n",
       "3  00024acbcdf0a6daa1e931b038114c75              1   \n",
       "4  00042b26cf59d7ce69dfabb4e55b4fd9              1   \n",
       "\n",
       "                         product_id                         seller_id  \\\n",
       "0  4244733e06e7ecb4970a6e2683c13e61  48436dade18ac8b2bce089ec2a041202   \n",
       "1  e5f2d52b802189ee658865ca93d83a8f  dd7ddc04e1b6c2c614352b383efe2d36   \n",
       "2  c777355d18b72b67abbeef9df44fd0fd  5b51032eddd242adc84c38acab88f23d   \n",
       "3  7634da152a4610f1595efa32f14722fc  9d7a1d34a5052409006425275ba1c2b4   \n",
       "4  ac6c3623068f30de03045865e4e10089  df560393f3a51e74553ab94004ba5c87   \n",
       "\n",
       "  shipping_limit_date   price  freight_value  \n",
       "0 2017-09-19 09:45:35   58.90          13.29  \n",
       "1 2017-05-03 11:05:13  239.90          19.93  \n",
       "2 2018-01-18 14:48:30  199.00          17.87  \n",
       "3 2018-08-15 10:10:18   12.99          12.79  \n",
       "4 2017-02-13 13:57:51  199.90          18.14  "
      ]
     },
     "execution_count": 5,
     "metadata": {},
     "output_type": "execute_result"
    }
   ],
   "source": [
    "items.head()"
   ]
  },
  {
   "cell_type": "markdown",
   "metadata": {},
   "source": [
    "<div class=\"alert alert-block alert-info\"\n",
    "<b>\n",
    "\n",
    "* проверим типы данных\n",
    "\n",
    "</b>\n",
    "</div"
   ]
  },
  {
   "cell_type": "code",
   "execution_count": 6,
   "metadata": {},
   "outputs": [
    {
     "data": {
      "text/plain": [
       "customer_id                 object\n",
       "customer_unique_id          object\n",
       "customer_zip_code_prefix     int64\n",
       "customer_city               object\n",
       "customer_state              object\n",
       "dtype: object"
      ]
     },
     "execution_count": 6,
     "metadata": {},
     "output_type": "execute_result"
    }
   ],
   "source": [
    "customers.dtypes"
   ]
  },
  {
   "cell_type": "code",
   "execution_count": 7,
   "metadata": {},
   "outputs": [
    {
     "data": {
      "text/plain": [
       "order_id                                 object\n",
       "customer_id                              object\n",
       "order_status                             object\n",
       "order_purchase_timestamp         datetime64[ns]\n",
       "order_approved_at                datetime64[ns]\n",
       "order_delivered_carrier_date     datetime64[ns]\n",
       "order_delivered_customer_date    datetime64[ns]\n",
       "order_estimated_delivery_date    datetime64[ns]\n",
       "dtype: object"
      ]
     },
     "execution_count": 7,
     "metadata": {},
     "output_type": "execute_result"
    }
   ],
   "source": [
    "orders.dtypes"
   ]
  },
  {
   "cell_type": "code",
   "execution_count": 8,
   "metadata": {},
   "outputs": [
    {
     "data": {
      "text/plain": [
       "order_id                       object\n",
       "order_item_id                   int64\n",
       "product_id                     object\n",
       "seller_id                      object\n",
       "shipping_limit_date    datetime64[ns]\n",
       "price                         float64\n",
       "freight_value                 float64\n",
       "dtype: object"
      ]
     },
     "execution_count": 8,
     "metadata": {},
     "output_type": "execute_result"
    }
   ],
   "source": [
    "items.dtypes"
   ]
  },
  {
   "cell_type": "markdown",
   "metadata": {},
   "source": [
    "<div class=\"alert alert-block alert-info\"\n",
    "<b>\n",
    "\n",
    "* размер фреймов\n",
    "\n",
    "</b>\n",
    "</div"
   ]
  },
  {
   "cell_type": "code",
   "execution_count": 9,
   "metadata": {},
   "outputs": [
    {
     "data": {
      "text/plain": [
       "(99441, 5)"
      ]
     },
     "execution_count": 9,
     "metadata": {},
     "output_type": "execute_result"
    }
   ],
   "source": [
    "customers.shape"
   ]
  },
  {
   "cell_type": "code",
   "execution_count": 10,
   "metadata": {},
   "outputs": [
    {
     "data": {
      "text/plain": [
       "(99441, 8)"
      ]
     },
     "execution_count": 10,
     "metadata": {},
     "output_type": "execute_result"
    }
   ],
   "source": [
    "orders.shape"
   ]
  },
  {
   "cell_type": "code",
   "execution_count": 11,
   "metadata": {},
   "outputs": [
    {
     "data": {
      "text/plain": [
       "(112650, 7)"
      ]
     },
     "execution_count": 11,
     "metadata": {},
     "output_type": "execute_result"
    }
   ],
   "source": [
    "items.shape"
   ]
  },
  {
   "cell_type": "markdown",
   "metadata": {},
   "source": [
    "<div class=\"alert alert-block alert-info\"\n",
    "<b>\n",
    "\n",
    "* наличие пропущенных значений \n",
    "\n",
    "</b>\n",
    "</div"
   ]
  },
  {
   "cell_type": "code",
   "execution_count": 12,
   "metadata": {},
   "outputs": [
    {
     "data": {
      "text/plain": [
       "customer_id                 0\n",
       "customer_unique_id          0\n",
       "customer_zip_code_prefix    0\n",
       "customer_city               0\n",
       "customer_state              0\n",
       "dtype: int64"
      ]
     },
     "execution_count": 12,
     "metadata": {},
     "output_type": "execute_result"
    }
   ],
   "source": [
    "customers.isna().sum()"
   ]
  },
  {
   "cell_type": "code",
   "execution_count": 13,
   "metadata": {},
   "outputs": [
    {
     "data": {
      "text/plain": [
       "order_id                            0\n",
       "customer_id                         0\n",
       "order_status                        0\n",
       "order_purchase_timestamp            0\n",
       "order_approved_at                 160\n",
       "order_delivered_carrier_date     1783\n",
       "order_delivered_customer_date    2965\n",
       "order_estimated_delivery_date       0\n",
       "dtype: int64"
      ]
     },
     "execution_count": 13,
     "metadata": {},
     "output_type": "execute_result"
    }
   ],
   "source": [
    "orders.isna().sum()"
   ]
  },
  {
   "cell_type": "code",
   "execution_count": 14,
   "metadata": {},
   "outputs": [
    {
     "data": {
      "text/plain": [
       "order_id               0\n",
       "order_item_id          0\n",
       "product_id             0\n",
       "seller_id              0\n",
       "shipping_limit_date    0\n",
       "price                  0\n",
       "freight_value          0\n",
       "dtype: int64"
      ]
     },
     "execution_count": 14,
     "metadata": {},
     "output_type": "execute_result"
    }
   ],
   "source": [
    "items.isna().sum()"
   ]
  },
  {
   "cell_type": "markdown",
   "metadata": {},
   "source": [
    "<div class=\"alert alert-block alert-info\"\n",
    "<b>\n",
    "\n",
    "* сколько уникальных значений встречаются\n",
    "\n",
    "</b>\n",
    "</div"
   ]
  },
  {
   "cell_type": "code",
   "execution_count": 15,
   "metadata": {},
   "outputs": [
    {
     "data": {
      "text/plain": [
       "customer_id                 99441\n",
       "customer_unique_id          96096\n",
       "customer_zip_code_prefix    14994\n",
       "customer_city                4119\n",
       "customer_state                 27\n",
       "dtype: int64"
      ]
     },
     "execution_count": 15,
     "metadata": {},
     "output_type": "execute_result"
    }
   ],
   "source": [
    "customers.nunique()"
   ]
  },
  {
   "cell_type": "code",
   "execution_count": 16,
   "metadata": {},
   "outputs": [
    {
     "data": {
      "text/plain": [
       "order_id                         99441\n",
       "customer_id                      99441\n",
       "order_status                         8\n",
       "order_purchase_timestamp         98875\n",
       "order_approved_at                90733\n",
       "order_delivered_carrier_date     81018\n",
       "order_delivered_customer_date    95664\n",
       "order_estimated_delivery_date      459\n",
       "dtype: int64"
      ]
     },
     "execution_count": 16,
     "metadata": {},
     "output_type": "execute_result"
    }
   ],
   "source": [
    "orders.nunique()"
   ]
  },
  {
   "cell_type": "code",
   "execution_count": 17,
   "metadata": {},
   "outputs": [
    {
     "data": {
      "text/plain": [
       "order_id               98666\n",
       "order_item_id             21\n",
       "product_id             32951\n",
       "seller_id               3095\n",
       "shipping_limit_date    93318\n",
       "price                   5968\n",
       "freight_value           6999\n",
       "dtype: int64"
      ]
     },
     "execution_count": 17,
     "metadata": {},
     "output_type": "execute_result"
    }
   ],
   "source": [
    "items.nunique()"
   ]
  },
  {
   "cell_type": "markdown",
   "metadata": {},
   "source": [
    "<div class=\"alert alert-block alert-info\"\n",
    "<b>\n",
    "\n",
    "* посмотрим на распредление заказов в зависимости от статуса\n",
    "\n",
    "</b>\n",
    "</div"
   ]
  },
  {
   "cell_type": "code",
   "execution_count": 18,
   "metadata": {},
   "outputs": [
    {
     "data": {
      "text/html": [
       "<div>\n",
       "<style scoped>\n",
       "    .dataframe tbody tr th:only-of-type {\n",
       "        vertical-align: middle;\n",
       "    }\n",
       "\n",
       "    .dataframe tbody tr th {\n",
       "        vertical-align: top;\n",
       "    }\n",
       "\n",
       "    .dataframe thead th {\n",
       "        text-align: right;\n",
       "    }\n",
       "</style>\n",
       "<table border=\"1\" class=\"dataframe\">\n",
       "  <thead>\n",
       "    <tr style=\"text-align: right;\">\n",
       "      <th></th>\n",
       "      <th>order_status</th>\n",
       "      <th>customer_id</th>\n",
       "    </tr>\n",
       "  </thead>\n",
       "  <tbody>\n",
       "    <tr>\n",
       "      <th>0</th>\n",
       "      <td>approved</td>\n",
       "      <td>2</td>\n",
       "    </tr>\n",
       "    <tr>\n",
       "      <th>1</th>\n",
       "      <td>canceled</td>\n",
       "      <td>625</td>\n",
       "    </tr>\n",
       "    <tr>\n",
       "      <th>2</th>\n",
       "      <td>created</td>\n",
       "      <td>5</td>\n",
       "    </tr>\n",
       "    <tr>\n",
       "      <th>3</th>\n",
       "      <td>delivered</td>\n",
       "      <td>96478</td>\n",
       "    </tr>\n",
       "    <tr>\n",
       "      <th>4</th>\n",
       "      <td>invoiced</td>\n",
       "      <td>314</td>\n",
       "    </tr>\n",
       "    <tr>\n",
       "      <th>5</th>\n",
       "      <td>processing</td>\n",
       "      <td>301</td>\n",
       "    </tr>\n",
       "    <tr>\n",
       "      <th>6</th>\n",
       "      <td>shipped</td>\n",
       "      <td>1107</td>\n",
       "    </tr>\n",
       "    <tr>\n",
       "      <th>7</th>\n",
       "      <td>unavailable</td>\n",
       "      <td>609</td>\n",
       "    </tr>\n",
       "  </tbody>\n",
       "</table>\n",
       "</div>"
      ],
      "text/plain": [
       "  order_status  customer_id\n",
       "0     approved            2\n",
       "1     canceled          625\n",
       "2      created            5\n",
       "3    delivered        96478\n",
       "4     invoiced          314\n",
       "5   processing          301\n",
       "6      shipped         1107\n",
       "7  unavailable          609"
      ]
     },
     "execution_count": 18,
     "metadata": {},
     "output_type": "execute_result"
    }
   ],
   "source": [
    "orders.groupby(\"order_status\", as_index = False).agg({\"customer_id\": \"count\"})"
   ]
  },
  {
   "cell_type": "markdown",
   "metadata": {},
   "source": [
    "<div class=\"alert alert-block alert-info\"\n",
    "<b>\n",
    "\n",
    "* посмотрим, в каких временных рамках подтверждалась оплата заказа\n",
    "\n",
    "</b>\n",
    "</div"
   ]
  },
  {
   "cell_type": "code",
   "execution_count": 19,
   "metadata": {},
   "outputs": [
    {
     "data": {
      "text/plain": [
       "Timestamp('2016-09-15 12:16:38')"
      ]
     },
     "execution_count": 19,
     "metadata": {},
     "output_type": "execute_result"
    }
   ],
   "source": [
    "orders.order_approved_at.min()"
   ]
  },
  {
   "cell_type": "code",
   "execution_count": 20,
   "metadata": {},
   "outputs": [
    {
     "data": {
      "text/plain": [
       "Timestamp('2018-09-03 17:40:06')"
      ]
     },
     "execution_count": 20,
     "metadata": {},
     "output_type": "execute_result"
    }
   ],
   "source": [
    "orders.order_approved_at.max()"
   ]
  },
  {
   "cell_type": "markdown",
   "metadata": {},
   "source": [
    "<div class=\"alert alert-block alert-info\"\n",
    "<b>\n",
    "\n",
    "* посмотрим, сколько товаров в каждом заказе\n",
    "\n",
    "</b>\n",
    "</div"
   ]
  },
  {
   "cell_type": "code",
   "execution_count": 21,
   "metadata": {},
   "outputs": [
    {
     "data": {
      "text/html": [
       "<div>\n",
       "<style scoped>\n",
       "    .dataframe tbody tr th:only-of-type {\n",
       "        vertical-align: middle;\n",
       "    }\n",
       "\n",
       "    .dataframe tbody tr th {\n",
       "        vertical-align: top;\n",
       "    }\n",
       "\n",
       "    .dataframe thead th {\n",
       "        text-align: right;\n",
       "    }\n",
       "</style>\n",
       "<table border=\"1\" class=\"dataframe\">\n",
       "  <thead>\n",
       "    <tr style=\"text-align: right;\">\n",
       "      <th></th>\n",
       "      <th>order_id</th>\n",
       "      <th>order_item_id</th>\n",
       "    </tr>\n",
       "  </thead>\n",
       "  <tbody>\n",
       "    <tr>\n",
       "      <th>50137</th>\n",
       "      <td>8272b63d03f5f79c56e9e4120aec44ef</td>\n",
       "      <td>21</td>\n",
       "    </tr>\n",
       "    <tr>\n",
       "      <th>10459</th>\n",
       "      <td>1b15974a0141d54e36626dca3fdc731a</td>\n",
       "      <td>20</td>\n",
       "    </tr>\n",
       "    <tr>\n",
       "      <th>65715</th>\n",
       "      <td>ab14fdcfbe524636d65ee38360e22ce8</td>\n",
       "      <td>20</td>\n",
       "    </tr>\n",
       "    <tr>\n",
       "      <th>60941</th>\n",
       "      <td>9ef13efd6949e4573a18964dd1bbe7f5</td>\n",
       "      <td>15</td>\n",
       "    </tr>\n",
       "    <tr>\n",
       "      <th>25583</th>\n",
       "      <td>428a2f660dc84138d969ccd69a0ab6d5</td>\n",
       "      <td>15</td>\n",
       "    </tr>\n",
       "    <tr>\n",
       "      <th>...</th>\n",
       "      <td>...</td>\n",
       "      <td>...</td>\n",
       "    </tr>\n",
       "    <tr>\n",
       "      <th>34640</th>\n",
       "      <td>5a0911d70c1f85d3bed0df1bf693a6dd</td>\n",
       "      <td>1</td>\n",
       "    </tr>\n",
       "    <tr>\n",
       "      <th>34639</th>\n",
       "      <td>5a082b558a3798d3e36d93bfa8ca1eae</td>\n",
       "      <td>1</td>\n",
       "    </tr>\n",
       "    <tr>\n",
       "      <th>34637</th>\n",
       "      <td>5a07264682e0b8fbb3f166edbbffc6e8</td>\n",
       "      <td>1</td>\n",
       "    </tr>\n",
       "    <tr>\n",
       "      <th>34636</th>\n",
       "      <td>5a071192a28951b76774e5a760c8c9b7</td>\n",
       "      <td>1</td>\n",
       "    </tr>\n",
       "    <tr>\n",
       "      <th>98665</th>\n",
       "      <td>fffe41c64501cc87c801fd61db3f6244</td>\n",
       "      <td>1</td>\n",
       "    </tr>\n",
       "  </tbody>\n",
       "</table>\n",
       "<p>98666 rows × 2 columns</p>\n",
       "</div>"
      ],
      "text/plain": [
       "                               order_id  order_item_id\n",
       "50137  8272b63d03f5f79c56e9e4120aec44ef             21\n",
       "10459  1b15974a0141d54e36626dca3fdc731a             20\n",
       "65715  ab14fdcfbe524636d65ee38360e22ce8             20\n",
       "60941  9ef13efd6949e4573a18964dd1bbe7f5             15\n",
       "25583  428a2f660dc84138d969ccd69a0ab6d5             15\n",
       "...                                 ...            ...\n",
       "34640  5a0911d70c1f85d3bed0df1bf693a6dd              1\n",
       "34639  5a082b558a3798d3e36d93bfa8ca1eae              1\n",
       "34637  5a07264682e0b8fbb3f166edbbffc6e8              1\n",
       "34636  5a071192a28951b76774e5a760c8c9b7              1\n",
       "98665  fffe41c64501cc87c801fd61db3f6244              1\n",
       "\n",
       "[98666 rows x 2 columns]"
      ]
     },
     "execution_count": 21,
     "metadata": {},
     "output_type": "execute_result"
    }
   ],
   "source": [
    "items.groupby(\"order_id\", as_index = False).agg({\"order_item_id\": \"count\"}).sort_values(\"order_item_id\", ascending=False)"
   ]
  },
  {
   "cell_type": "markdown",
   "metadata": {},
   "source": [
    "    "
   ]
  },
  {
   "cell_type": "markdown",
   "metadata": {},
   "source": [
    "<div class=\"alert alert-block alert-info\"\n",
    "<b>\n",
    "\n",
    "Приступим к решению задачи 1.\n",
    "\n",
    "В качестве покупки будем рассматривать статусы: \n",
    "\n",
    "* processing —  в процессе сборки заказа\n",
    "* shipped —  отгружен со склада\n",
    "* delivered —  доставлен пользователю\n",
    "\n",
    "Заказы с таким статусом оплачены и не отменены, а значит произошел факт покупки\n",
    "\n",
    "Почему другие статусы нам не подходят?\n",
    "* created(создан) не будет рассматриваться в качестве покупки, так как заказ создан, но еще не подтвержден и не оплачен, \n",
    "а это значит факта покупки нет, заказ могут отменить на стадии оформления, это просто заявка \n",
    "* approved(подтверждён) - здесь заказ уже подтвердили, то есть продавец подтвердил, что заказ он получил, но так же \n",
    "факта оплаты нет, а это не покупка \n",
    "* invoiced(выставлен счёт) - уже лучше, продавец выставил счет, но он еще не оплачен\n",
    "* unavailable(недоступен) и canceled(отменён) - в принципе говорят о неудачной сделке, а не о покупке \n",
    "\n",
    "</b>\n",
    "</div"
   ]
  },
  {
   "cell_type": "markdown",
   "metadata": {},
   "source": [
    "<div class=\"alert alert-block alert-info\"\n",
    "<b>\n",
    "\n",
    "Для начала объединим две таблицы с информацией о пользователях и заказах. Сделаем это методом merge.\n",
    "\n",
    "</b>\n",
    "</div\n"
   ]
  },
  {
   "cell_type": "code",
   "execution_count": 22,
   "metadata": {},
   "outputs": [],
   "source": [
    "merge_cust_ord = customers.merge(orders)"
   ]
  },
  {
   "cell_type": "markdown",
   "metadata": {},
   "source": [
    "<div class=\"alert alert-block alert-info\"\n",
    "<b>\n",
    "\n",
    "Найдем число пользователей, которые сделали покупку только 1 раз:\n",
    "\n",
    "</b>\n",
    "</div"
   ]
  },
  {
   "cell_type": "code",
   "execution_count": 23,
   "metadata": {},
   "outputs": [
    {
     "data": {
      "text/plain": [
       "91814"
      ]
     },
     "execution_count": 23,
     "metadata": {},
     "output_type": "execute_result"
    }
   ],
   "source": [
    "merge_cust_ord.query('order_status == [\"processing\", \"shipped\", \"delivered\"]')\\\n",
    "            .groupby('customer_unique_id', as_index=False)\\\n",
    "            .agg({'order_id': 'count'})\\\n",
    "            .query('order_id == 1').order_id.sum()"
   ]
  },
  {
   "cell_type": "markdown",
   "metadata": {},
   "source": [
    "        "
   ]
  },
  {
   "cell_type": "markdown",
   "metadata": {},
   "source": [
    "<div class=\"alert alert-block alert-danger\"\n",
    "<b>\n",
    "<ol>\n",
    "    \n",
    "**Задача 2**\n",
    "\n",
    "Сколько заказов в месяц в среднем не доставляется по разным причинам (вывести детализацию по причинам)?\n",
    "\n",
    "</ol>\n",
    "</b>\n",
    "</div> "
   ]
  },
  {
   "cell_type": "markdown",
   "metadata": {},
   "source": [
    "<div class=\"alert alert-block alert-info\"\n",
    "<b>\n",
    "\n",
    "Итак, вопрос касается только заказов, работать следует с таблицей orders.\n",
    "\n",
    "На этапе предварительного исследования было выявлено, что в таблице присутствуют пустые значения.\n",
    "\n",
    "Особенно нас интересует столбец order_delivered_customer_date, так как в него заносится время доставки заказов.\n",
    "\n",
    "Если значение пустое - доставки не было.\n",
    "\n",
    "</b>\n",
    "</div\n"
   ]
  },
  {
   "cell_type": "code",
   "execution_count": 24,
   "metadata": {},
   "outputs": [
    {
     "data": {
      "text/plain": [
       "order_id                            0\n",
       "customer_id                         0\n",
       "order_status                        0\n",
       "order_purchase_timestamp            0\n",
       "order_approved_at                 160\n",
       "order_delivered_carrier_date     1783\n",
       "order_delivered_customer_date    2965\n",
       "order_estimated_delivery_date       0\n",
       "dtype: int64"
      ]
     },
     "execution_count": 24,
     "metadata": {},
     "output_type": "execute_result"
    }
   ],
   "source": [
    "orders.isna().sum()"
   ]
  },
  {
   "cell_type": "markdown",
   "metadata": {},
   "source": [
    "<div class=\"alert alert-block alert-info\"\n",
    "<b>\n",
    "\n",
    "Теперь попробуем подумать о причинах, по которым заказ не был доставлен.\n",
    "\n",
    "Отдельного столбика в таблице, в котором указывались бы причины или комментарии не имеется.\n",
    "\n",
    "Вероятно, заказы не были доставлены по естественным причинам - статус заказа не соответствует.\n",
    "\n",
    "Посмотрим, какие статусы мы имеем в таблице. \n",
    "\n",
    "</b>\n",
    "</div"
   ]
  },
  {
   "cell_type": "code",
   "execution_count": 25,
   "metadata": {},
   "outputs": [
    {
     "data": {
      "text/html": [
       "<div>\n",
       "<style scoped>\n",
       "    .dataframe tbody tr th:only-of-type {\n",
       "        vertical-align: middle;\n",
       "    }\n",
       "\n",
       "    .dataframe tbody tr th {\n",
       "        vertical-align: top;\n",
       "    }\n",
       "\n",
       "    .dataframe thead th {\n",
       "        text-align: right;\n",
       "    }\n",
       "</style>\n",
       "<table border=\"1\" class=\"dataframe\">\n",
       "  <thead>\n",
       "    <tr style=\"text-align: right;\">\n",
       "      <th></th>\n",
       "      <th>order_status</th>\n",
       "      <th>count</th>\n",
       "    </tr>\n",
       "  </thead>\n",
       "  <tbody>\n",
       "    <tr>\n",
       "      <th>0</th>\n",
       "      <td>approved</td>\n",
       "      <td>2</td>\n",
       "    </tr>\n",
       "    <tr>\n",
       "      <th>1</th>\n",
       "      <td>canceled</td>\n",
       "      <td>619</td>\n",
       "    </tr>\n",
       "    <tr>\n",
       "      <th>2</th>\n",
       "      <td>created</td>\n",
       "      <td>5</td>\n",
       "    </tr>\n",
       "    <tr>\n",
       "      <th>3</th>\n",
       "      <td>delivered</td>\n",
       "      <td>8</td>\n",
       "    </tr>\n",
       "    <tr>\n",
       "      <th>4</th>\n",
       "      <td>invoiced</td>\n",
       "      <td>314</td>\n",
       "    </tr>\n",
       "    <tr>\n",
       "      <th>5</th>\n",
       "      <td>processing</td>\n",
       "      <td>301</td>\n",
       "    </tr>\n",
       "    <tr>\n",
       "      <th>6</th>\n",
       "      <td>shipped</td>\n",
       "      <td>1107</td>\n",
       "    </tr>\n",
       "    <tr>\n",
       "      <th>7</th>\n",
       "      <td>unavailable</td>\n",
       "      <td>609</td>\n",
       "    </tr>\n",
       "  </tbody>\n",
       "</table>\n",
       "</div>"
      ],
      "text/plain": [
       "  order_status  count\n",
       "0     approved      2\n",
       "1     canceled    619\n",
       "2      created      5\n",
       "3    delivered      8\n",
       "4     invoiced    314\n",
       "5   processing    301\n",
       "6      shipped   1107\n",
       "7  unavailable    609"
      ]
     },
     "execution_count": 25,
     "metadata": {},
     "output_type": "execute_result"
    }
   ],
   "source": [
    "orders.fillna(0).query('order_delivered_customer_date == 0').groupby('order_status',as_index=False)\\\n",
    "                .agg({'order_purchase_timestamp':'count'}).rename(columns={'order_purchase_timestamp':'count'})\n"
   ]
  },
  {
   "cell_type": "markdown",
   "metadata": {},
   "source": [
    "<div class=\"alert alert-block alert-info\"\n",
    "<b>\n",
    "\n",
    "Итак\n",
    "* **approved** - заказ подтвержден, но еще не доставлен \n",
    "* **canceled** - заказ отменен, о доставке нет речи\n",
    "* **created** - заказ только создан, еще далеко до доставки\n",
    "* **delivered** -  доставлен пользователю, здесь явно ошибка, заказы с таким статусом нам не подойдут \n",
    "* **invoiced** - выставлен счёт, пока рано доставлять \n",
    "* **processing** - в процессе сборки заказа, еще не доставили \n",
    "* **shipped** - отгружен со склада, еще в процессе доставки\n",
    "* **unavailable** - недоступен, не доставлен \n",
    "\n",
    "У нас есть статус **delivered**, что противоречит условию, убираем заказы с этим статусом\n",
    "\n",
    "</b>\n",
    "</div"
   ]
  },
  {
   "cell_type": "code",
   "execution_count": 26,
   "metadata": {},
   "outputs": [],
   "source": [
    "undelivered = orders.fillna(0).query('order_delivered_customer_date == 0 and order_status != \"delivered\"')"
   ]
  },
  {
   "cell_type": "code",
   "execution_count": 27,
   "metadata": {},
   "outputs": [
    {
     "data": {
      "text/plain": [
       "2957"
      ]
     },
     "execution_count": 27,
     "metadata": {},
     "output_type": "execute_result"
    }
   ],
   "source": [
    "undelivered.shape[0]"
   ]
  },
  {
   "cell_type": "markdown",
   "metadata": {},
   "source": [
    "<div class=\"alert alert-block alert-info\"\n",
    "<b>\n",
    "\n",
    "Значит, 2957 заказов у нас в принципе не доставлено.\n",
    "\n",
    "Хорошо, но по условию задачи необходимо отыскать, сколько заказов именно в месяц в среднем не доставляется.\n",
    "\n",
    "</b>\n",
    "</div"
   ]
  },
  {
   "cell_type": "code",
   "execution_count": 28,
   "metadata": {},
   "outputs": [],
   "source": [
    "#переведем к месяцу \n",
    "undelivered['order_purchase_timestamp'] = pd.to_datetime(undelivered.order_purchase_timestamp)\n",
    "undelivered['order_purchase_timestamp'] = undelivered.order_purchase_timestamp.dt.strftime('%Y-%m')"
   ]
  },
  {
   "cell_type": "markdown",
   "metadata": {},
   "source": [
    "<div class=\"alert alert-block alert-info\"\n",
    "<b>\n",
    "\n",
    "Ответим на вопрос задачи:\n",
    "\n",
    "</b>\n",
    "</div"
   ]
  },
  {
   "cell_type": "code",
   "execution_count": 29,
   "metadata": {},
   "outputs": [],
   "source": [
    "reasons = undelivered.groupby(['order_status','order_purchase_timestamp'],as_index=False).agg({'order_id':'count'})\\\n",
    "            .groupby('order_status',as_index=False).agg({'order_id':'mean'}).round()\\\n",
    "            .sort_values(by='order_id',ascending=False)"
   ]
  },
  {
   "cell_type": "code",
   "execution_count": 30,
   "metadata": {},
   "outputs": [
    {
     "data": {
      "text/html": [
       "<div>\n",
       "<style scoped>\n",
       "    .dataframe tbody tr th:only-of-type {\n",
       "        vertical-align: middle;\n",
       "    }\n",
       "\n",
       "    .dataframe tbody tr th {\n",
       "        vertical-align: top;\n",
       "    }\n",
       "\n",
       "    .dataframe thead th {\n",
       "        text-align: right;\n",
       "    }\n",
       "</style>\n",
       "<table border=\"1\" class=\"dataframe\">\n",
       "  <thead>\n",
       "    <tr style=\"text-align: right;\">\n",
       "      <th></th>\n",
       "      <th>order_status</th>\n",
       "      <th>order_id</th>\n",
       "    </tr>\n",
       "  </thead>\n",
       "  <tbody>\n",
       "    <tr>\n",
       "      <th>5</th>\n",
       "      <td>shipped</td>\n",
       "      <td>48.0</td>\n",
       "    </tr>\n",
       "    <tr>\n",
       "      <th>6</th>\n",
       "      <td>unavailable</td>\n",
       "      <td>29.0</td>\n",
       "    </tr>\n",
       "    <tr>\n",
       "      <th>1</th>\n",
       "      <td>canceled</td>\n",
       "      <td>26.0</td>\n",
       "    </tr>\n",
       "    <tr>\n",
       "      <th>4</th>\n",
       "      <td>processing</td>\n",
       "      <td>16.0</td>\n",
       "    </tr>\n",
       "    <tr>\n",
       "      <th>3</th>\n",
       "      <td>invoiced</td>\n",
       "      <td>15.0</td>\n",
       "    </tr>\n",
       "    <tr>\n",
       "      <th>2</th>\n",
       "      <td>created</td>\n",
       "      <td>2.0</td>\n",
       "    </tr>\n",
       "    <tr>\n",
       "      <th>0</th>\n",
       "      <td>approved</td>\n",
       "      <td>1.0</td>\n",
       "    </tr>\n",
       "  </tbody>\n",
       "</table>\n",
       "</div>"
      ],
      "text/plain": [
       "  order_status  order_id\n",
       "5      shipped      48.0\n",
       "6  unavailable      29.0\n",
       "1     canceled      26.0\n",
       "4   processing      16.0\n",
       "3     invoiced      15.0\n",
       "2      created       2.0\n",
       "0     approved       1.0"
      ]
     },
     "execution_count": 30,
     "metadata": {},
     "output_type": "execute_result"
    }
   ],
   "source": [
    "reasons"
   ]
  },
  {
   "cell_type": "markdown",
   "metadata": {},
   "source": [
    "<div class=\"alert alert-block alert-info\"\n",
    "<b>\n",
    "\n",
    "Визуализируем результат для наглядности\n",
    "\n",
    "</b>\n",
    "</div"
   ]
  },
  {
   "cell_type": "code",
   "execution_count": 33,
   "metadata": {},
   "outputs": [
    {
     "data": {
      "image/png": "[encoded data removed]",
      "text/plain": [
       "<Figure size 864x576 with 1 Axes>"
      ]
     },
     "metadata": {
      "needs_background": "light"
     },
     "output_type": "display_data"
    }
   ],
   "source": [
    "plt.figure(figsize=(12, 8))\n",
    "sns.barplot(x='order_status', y='order_id', data=reasons)\n",
    "\n",
    "plt.title(label = 'Not delivered  orders',\n",
    "          color = 'black',\n",
    "          fontsize = 22,\n",
    "          x = 0.5,\n",
    "          y = 1.1,\n",
    "          family = 'serif')\n",
    "\n",
    "plt.show()"
   ]
  },
  {
   "cell_type": "markdown",
   "metadata": {},
   "source": [
    "<div class=\"alert alert-block alert-info\"\n",
    "<b>\n",
    "\n",
    "Нетрудно заметить, что наибольшее количество заказов, которые не доставили находятся на этапе shipped(отгружен со склада)\n",
    "Возможно необходимо оптимизировать передачу заказа партнеру по логистике, а может и вовсе сменить партнера.\n",
    "\n",
    "</b>\n",
    "</div"
   ]
  },
  {
   "cell_type": "markdown",
   "metadata": {},
   "source": [
    "            "
   ]
  },
  {
   "cell_type": "markdown",
   "metadata": {},
   "source": [
    "<div class=\"alert alert-block alert-danger\"\n",
    "<b>\n",
    "<ol>\n",
    "    \n",
    "**Задача 3**\n",
    "\n",
    "По каждому товару определить, в какой день недели товар чаще всего покупается.\n",
    "\n",
    "</ol>\n",
    "</b>\n",
    "</div> "
   ]
  },
  {
   "cell_type": "markdown",
   "metadata": {},
   "source": [
    "<div class=\"alert alert-block alert-info\"\n",
    "<b>\n",
    "\n",
    "Для начала объединим таблицы с информацией о заказах и о заказанных товарах.\n",
    "\n",
    "</b>\n",
    "</div"
   ]
  },
  {
   "cell_type": "code",
   "execution_count": 34,
   "metadata": {},
   "outputs": [],
   "source": [
    "merge_orders_items = orders.merge(items)"
   ]
  },
  {
   "cell_type": "markdown",
   "metadata": {},
   "source": [
    "<div class=\"alert alert-block alert-info\"\n",
    "<b>\n",
    "\n",
    "Теперь применим условие о покупках\n",
    "\n",
    "</b>\n",
    "</div"
   ]
  },
  {
   "cell_type": "code",
   "execution_count": 35,
   "metadata": {},
   "outputs": [],
   "source": [
    "orders_items = merge_orders_items.query('order_status == [\"processing\", \"shipped\", \"delivered\"]')"
   ]
  },
  {
   "cell_type": "markdown",
   "metadata": {},
   "source": [
    "<div class=\"alert alert-block alert-info\"\n",
    "<b>\n",
    "\n",
    "Переведем в даты время создания заказа\n",
    "\n",
    "</b>\n",
    "</div"
   ]
  },
  {
   "cell_type": "code",
   "execution_count": 36,
   "metadata": {},
   "outputs": [],
   "source": [
    "orders_items['order_purchase_timestamp'] = pd.to_datetime(orders_items.order_purchase_timestamp)"
   ]
  },
  {
   "cell_type": "markdown",
   "metadata": {},
   "source": [
    "<div class=\"alert alert-block alert-info\"\n",
    "<b>\n",
    "\n",
    "Создадим новый столбец с названием дня недели\n",
    "\n",
    "</b>\n",
    "</div"
   ]
  },
  {
   "cell_type": "code",
   "execution_count": 37,
   "metadata": {},
   "outputs": [],
   "source": [
    "orders_items['day_of_a_week'] = orders_items.order_purchase_timestamp.dt.day_name()"
   ]
  },
  {
   "cell_type": "markdown",
   "metadata": {},
   "source": [
    "<div class=\"alert alert-block alert-info\"\n",
    "<b>\n",
    "\n",
    "Ответим на вопрос задачи:\n",
    "\n",
    "</b>\n",
    "</div"
   ]
  },
  {
   "cell_type": "code",
   "execution_count": 38,
   "metadata": {},
   "outputs": [
    {
     "data": {
      "text/html": [
       "<div>\n",
       "<style scoped>\n",
       "    .dataframe tbody tr th:only-of-type {\n",
       "        vertical-align: middle;\n",
       "    }\n",
       "\n",
       "    .dataframe tbody tr th {\n",
       "        vertical-align: top;\n",
       "    }\n",
       "\n",
       "    .dataframe thead th {\n",
       "        text-align: right;\n",
       "    }\n",
       "</style>\n",
       "<table border=\"1\" class=\"dataframe\">\n",
       "  <thead>\n",
       "    <tr style=\"text-align: right;\">\n",
       "      <th></th>\n",
       "      <th>product_id</th>\n",
       "      <th>day_of_a_week</th>\n",
       "      <th>order_id</th>\n",
       "    </tr>\n",
       "  </thead>\n",
       "  <tbody>\n",
       "    <tr>\n",
       "      <th>15766</th>\n",
       "      <td>422879e10f46682990de24d770e7f83d</td>\n",
       "      <td>Wednesday</td>\n",
       "      <td>93</td>\n",
       "    </tr>\n",
       "    <tr>\n",
       "      <th>36178</th>\n",
       "      <td>99a4788cb24856965c36a24e339b6058</td>\n",
       "      <td>Monday</td>\n",
       "      <td>92</td>\n",
       "    </tr>\n",
       "    <tr>\n",
       "      <th>40679</th>\n",
       "      <td>aca2eb7d00ea1a7b8ebd4e68314663af</td>\n",
       "      <td>Thursday</td>\n",
       "      <td>89</td>\n",
       "    </tr>\n",
       "    <tr>\n",
       "      <th>19944</th>\n",
       "      <td>53b36df67ebb7c41585e8d54d6772e08</td>\n",
       "      <td>Tuesday</td>\n",
       "      <td>76</td>\n",
       "    </tr>\n",
       "    <tr>\n",
       "      <th>13422</th>\n",
       "      <td>389d119b48cf3043d311335e499d9c6b</td>\n",
       "      <td>Thursday</td>\n",
       "      <td>67</td>\n",
       "    </tr>\n",
       "    <tr>\n",
       "      <th>...</th>\n",
       "      <td>...</td>\n",
       "      <td>...</td>\n",
       "      <td>...</td>\n",
       "    </tr>\n",
       "    <tr>\n",
       "      <th>23811</th>\n",
       "      <td>6435be64ad92f52631170f9a92718a99</td>\n",
       "      <td>Sunday</td>\n",
       "      <td>1</td>\n",
       "    </tr>\n",
       "    <tr>\n",
       "      <th>23813</th>\n",
       "      <td>64367bed3ed96fd9381676fbe33b6443</td>\n",
       "      <td>Sunday</td>\n",
       "      <td>1</td>\n",
       "    </tr>\n",
       "    <tr>\n",
       "      <th>23814</th>\n",
       "      <td>643a4049ae3e6df63858575f28cd7b21</td>\n",
       "      <td>Friday</td>\n",
       "      <td>1</td>\n",
       "    </tr>\n",
       "    <tr>\n",
       "      <th>23816</th>\n",
       "      <td>643a66b1dc5dad3de6cb5a41549e72f1</td>\n",
       "      <td>Sunday</td>\n",
       "      <td>1</td>\n",
       "    </tr>\n",
       "    <tr>\n",
       "      <th>60676</th>\n",
       "      <td>fffe9eeff12fcbd74a2f2b007dde0c58</td>\n",
       "      <td>Wednesday</td>\n",
       "      <td>1</td>\n",
       "    </tr>\n",
       "  </tbody>\n",
       "</table>\n",
       "<p>32614 rows × 3 columns</p>\n",
       "</div>"
      ],
      "text/plain": [
       "                             product_id day_of_a_week  order_id\n",
       "15766  422879e10f46682990de24d770e7f83d     Wednesday        93\n",
       "36178  99a4788cb24856965c36a24e339b6058        Monday        92\n",
       "40679  aca2eb7d00ea1a7b8ebd4e68314663af      Thursday        89\n",
       "19944  53b36df67ebb7c41585e8d54d6772e08       Tuesday        76\n",
       "13422  389d119b48cf3043d311335e499d9c6b      Thursday        67\n",
       "...                                 ...           ...       ...\n",
       "23811  6435be64ad92f52631170f9a92718a99        Sunday         1\n",
       "23813  64367bed3ed96fd9381676fbe33b6443        Sunday         1\n",
       "23814  643a4049ae3e6df63858575f28cd7b21        Friday         1\n",
       "23816  643a66b1dc5dad3de6cb5a41549e72f1        Sunday         1\n",
       "60676  fffe9eeff12fcbd74a2f2b007dde0c58     Wednesday         1\n",
       "\n",
       "[32614 rows x 3 columns]"
      ]
     },
     "execution_count": 38,
     "metadata": {},
     "output_type": "execute_result"
    }
   ],
   "source": [
    "orders_items.groupby(['product_id','day_of_a_week',],as_index=False)\\\n",
    "    .agg({'order_id':'count'}).sort_values(by='order_id',ascending=False).drop_duplicates(subset='product_id')"
   ]
  },
  {
   "cell_type": "markdown",
   "metadata": {},
   "source": [
    "        "
   ]
  },
  {
   "cell_type": "markdown",
   "metadata": {},
   "source": [
    "<div class=\"alert alert-block alert-danger\"\n",
    "<b>\n",
    "<ol>\n",
    "    \n",
    "**Задача 4**\n",
    "\n",
    "Сколько у каждого из пользователей в среднем покупок в неделю (по месяцам)? \n",
    "    \n",
    "Не стоит забывать, что внутри месяца может быть не целое количество недель. \n",
    "Например, в ноябре 2021 года 4,28 недели. И внутри метрики это нужно учесть. \n",
    "    \n",
    "</ol>\n",
    "</b>\n",
    "</div>"
   ]
  },
  {
   "cell_type": "markdown",
   "metadata": {},
   "source": [
    "<div class=\"alert alert-block alert-info\"\n",
    "<b>\n",
    "\n",
    "Объединим все три таблицы \n",
    "\n",
    "</b>\n",
    "</div"
   ]
  },
  {
   "cell_type": "code",
   "execution_count": 39,
   "metadata": {},
   "outputs": [],
   "source": [
    "merge_orders_items_customers = merge_orders_items.merge(customers)"
   ]
  },
  {
   "cell_type": "markdown",
   "metadata": {},
   "source": [
    "<div class=\"alert alert-block alert-info\"\n",
    "<b>\n",
    "\n",
    "Необходимо найти покупки в месяц, поэтому поработаем с order_purchase_timestamp и приведем данные столбца к месяцу\n",
    "\n",
    "</b>\n",
    "</div"
   ]
  },
  {
   "cell_type": "code",
   "execution_count": 40,
   "metadata": {},
   "outputs": [],
   "source": [
    "merge_orders_items_customers['order_purchase_timestamp'] = pd.to_datetime(merge_orders_items_customers.order_purchase_timestamp) "
   ]
  },
  {
   "cell_type": "code",
   "execution_count": 41,
   "metadata": {},
   "outputs": [],
   "source": [
    "merge_orders_items_customers['order_purchase_timestamp'] = merge_orders_items_customers.order_purchase_timestamp.dt.strftime('%Y-%m')"
   ]
  },
  {
   "cell_type": "markdown",
   "metadata": {},
   "source": [
    "<div class=\"alert alert-block alert-info\"\n",
    "<b>\n",
    "\n",
    "Сделаем новый фрейм, где посчитаем число покупок в месяц по каждому пользователю\n",
    "\n",
    "</b>\n",
    "</div"
   ]
  },
  {
   "cell_type": "code",
   "execution_count": 42,
   "metadata": {},
   "outputs": [],
   "source": [
    "result_table = merge_orders_items_customers.query('order_status == [\"processing\", \"shipped\", \"delivered\"]')\\\n",
    "    .groupby(['customer_unique_id','order_purchase_timestamp'],as_index=False).agg({'order_status':'count'})"
   ]
  },
  {
   "cell_type": "markdown",
   "metadata": {},
   "source": [
    "<div class=\"alert alert-block alert-info\"\n",
    "<b>\n",
    "\n",
    "Сделаем новый столбец с числом дней в каждом месяце\n",
    "\n",
    "</b>\n",
    "</div"
   ]
  },
  {
   "cell_type": "code",
   "execution_count": 43,
   "metadata": {},
   "outputs": [],
   "source": [
    "result_table['days'] = pd.to_datetime(result_table.order_purchase_timestamp) "
   ]
  },
  {
   "cell_type": "code",
   "execution_count": 44,
   "metadata": {},
   "outputs": [],
   "source": [
    "result_table.days = result_table.days.dt.days_in_month"
   ]
  },
  {
   "cell_type": "markdown",
   "metadata": {},
   "source": [
    "<div class=\"alert alert-block alert-info\"\n",
    "<b>\n",
    "\n",
    "Посчитаем, сколько недель в каждом месяце по полученным дням \n",
    "\n",
    "</b>\n",
    "</div"
   ]
  },
  {
   "cell_type": "code",
   "execution_count": 45,
   "metadata": {},
   "outputs": [],
   "source": [
    "result_table['weeks'] = result_table.days / 7"
   ]
  },
  {
   "cell_type": "markdown",
   "metadata": {},
   "source": [
    "<div class=\"alert alert-block alert-info\"\n",
    "<b>\n",
    "\n",
    "Теперь найдем, сколько у каждого из пользователей в среднем покупок в неделю (по месяцам)\n",
    "\n",
    "</b>\n",
    "</div"
   ]
  },
  {
   "cell_type": "code",
   "execution_count": 46,
   "metadata": {},
   "outputs": [],
   "source": [
    "result_table['metric'] = result_table.order_status/result_table.weeks"
   ]
  },
  {
   "cell_type": "code",
   "execution_count": 47,
   "metadata": {},
   "outputs": [
    {
     "data": {
      "text/html": [
       "<div>\n",
       "<style scoped>\n",
       "    .dataframe tbody tr th:only-of-type {\n",
       "        vertical-align: middle;\n",
       "    }\n",
       "\n",
       "    .dataframe tbody tr th {\n",
       "        vertical-align: top;\n",
       "    }\n",
       "\n",
       "    .dataframe thead th {\n",
       "        text-align: right;\n",
       "    }\n",
       "</style>\n",
       "<table border=\"1\" class=\"dataframe\">\n",
       "  <thead>\n",
       "    <tr style=\"text-align: right;\">\n",
       "      <th></th>\n",
       "      <th>customer_unique_id</th>\n",
       "      <th>order_purchase_timestamp</th>\n",
       "      <th>order_status</th>\n",
       "      <th>days</th>\n",
       "      <th>weeks</th>\n",
       "      <th>metric</th>\n",
       "    </tr>\n",
       "  </thead>\n",
       "  <tbody>\n",
       "    <tr>\n",
       "      <th>0</th>\n",
       "      <td>0000366f3b9a7992bf8c76cfdf3221e2</td>\n",
       "      <td>2018-05</td>\n",
       "      <td>1</td>\n",
       "      <td>31</td>\n",
       "      <td>4.428571</td>\n",
       "      <td>0.225806</td>\n",
       "    </tr>\n",
       "    <tr>\n",
       "      <th>1</th>\n",
       "      <td>0000b849f77a49e4a4ce2b2a4ca5be3f</td>\n",
       "      <td>2018-05</td>\n",
       "      <td>1</td>\n",
       "      <td>31</td>\n",
       "      <td>4.428571</td>\n",
       "      <td>0.225806</td>\n",
       "    </tr>\n",
       "    <tr>\n",
       "      <th>2</th>\n",
       "      <td>0000f46a3911fa3c0805444483337064</td>\n",
       "      <td>2017-03</td>\n",
       "      <td>1</td>\n",
       "      <td>31</td>\n",
       "      <td>4.428571</td>\n",
       "      <td>0.225806</td>\n",
       "    </tr>\n",
       "    <tr>\n",
       "      <th>3</th>\n",
       "      <td>0000f6ccb0745a6a4b88665a16c9f078</td>\n",
       "      <td>2017-10</td>\n",
       "      <td>1</td>\n",
       "      <td>31</td>\n",
       "      <td>4.428571</td>\n",
       "      <td>0.225806</td>\n",
       "    </tr>\n",
       "    <tr>\n",
       "      <th>4</th>\n",
       "      <td>0004aac84e0df4da2b147fca70cf8255</td>\n",
       "      <td>2017-11</td>\n",
       "      <td>1</td>\n",
       "      <td>30</td>\n",
       "      <td>4.285714</td>\n",
       "      <td>0.233333</td>\n",
       "    </tr>\n",
       "  </tbody>\n",
       "</table>\n",
       "</div>"
      ],
      "text/plain": [
       "                 customer_unique_id order_purchase_timestamp  order_status  \\\n",
       "0  0000366f3b9a7992bf8c76cfdf3221e2                  2018-05             1   \n",
       "1  0000b849f77a49e4a4ce2b2a4ca5be3f                  2018-05             1   \n",
       "2  0000f46a3911fa3c0805444483337064                  2017-03             1   \n",
       "3  0000f6ccb0745a6a4b88665a16c9f078                  2017-10             1   \n",
       "4  0004aac84e0df4da2b147fca70cf8255                  2017-11             1   \n",
       "\n",
       "   days     weeks    metric  \n",
       "0    31  4.428571  0.225806  \n",
       "1    31  4.428571  0.225806  \n",
       "2    31  4.428571  0.225806  \n",
       "3    31  4.428571  0.225806  \n",
       "4    30  4.285714  0.233333  "
      ]
     },
     "execution_count": 47,
     "metadata": {},
     "output_type": "execute_result"
    }
   ],
   "source": [
    "result_table.head()"
   ]
  },
  {
   "cell_type": "markdown",
   "metadata": {},
   "source": [
    "        "
   ]
  },
  {
   "cell_type": "markdown",
   "metadata": {},
   "source": [
    "<div class=\"alert alert-block alert-danger\"\n",
    "<b>\n",
    "<ol>\n",
    "    \n",
    "**Задача 5**\n",
    "\n",
    "Используя pandas, проведи когортный анализ пользователей. \n",
    "    \n",
    "В период с января по декабрь выяви когорту с самым высоким retention на 3й месяц. \n",
    "\n",
    "    \n",
    "</ol>\n",
    "</b>\n",
    "</div>"
   ]
  },
  {
   "cell_type": "markdown",
   "metadata": {},
   "source": [
    "<div class=\"alert alert-block alert-info\"\n",
    "<b>\n",
    "\n",
    "Возьмем снова общую таблицу с пользователями и заказами и поработаем с ней\n",
    "\n",
    "</b>\n",
    "</div"
   ]
  },
  {
   "cell_type": "code",
   "execution_count": 48,
   "metadata": {},
   "outputs": [],
   "source": [
    "for_kogort = customers.merge(orders)"
   ]
  },
  {
   "cell_type": "markdown",
   "metadata": {},
   "source": [
    "<div class=\"alert alert-block alert-info\"\n",
    "<b>\n",
    "\n",
    "По условию задачи нам нужно работать с **retention**. \n",
    "\n",
    "**Возвратность (Retention)** — характеристика группы пользователей, вычисляемая соотношением активных пользователей в определённые\n",
    "временные промежутки. Пример: некоторое приложение установили 50 человек, через неделю активными пользователями остались лишь\n",
    "5 человек; возвратность: 5 / 50 * 100% = 10%.\n",
    "\n",
    "</b>\n",
    "</div"
   ]
  },
  {
   "cell_type": "markdown",
   "metadata": {},
   "source": [
    "<div class=\"alert alert-block alert-info\"\n",
    "<b>\n",
    "\n",
    "Для начала уберем пустые значения, о которых помним еще с предварительного анализа данных\n",
    "\n",
    "</b>\n",
    "</div"
   ]
  },
  {
   "cell_type": "code",
   "execution_count": 49,
   "metadata": {},
   "outputs": [
    {
     "data": {
      "text/plain": [
       "customer_id                         0\n",
       "customer_unique_id                  0\n",
       "customer_zip_code_prefix            0\n",
       "customer_city                       0\n",
       "customer_state                      0\n",
       "order_id                            0\n",
       "order_status                        0\n",
       "order_purchase_timestamp            0\n",
       "order_approved_at                 160\n",
       "order_delivered_carrier_date     1783\n",
       "order_delivered_customer_date    2965\n",
       "order_estimated_delivery_date       0\n",
       "dtype: int64"
      ]
     },
     "execution_count": 49,
     "metadata": {},
     "output_type": "execute_result"
    }
   ],
   "source": [
    "for_kogort.isna().sum()"
   ]
  },
  {
   "cell_type": "code",
   "execution_count": 50,
   "metadata": {},
   "outputs": [],
   "source": [
    "for_kogort_new = for_kogort.dropna(axis='index', how='any', subset=['order_approved_at'])"
   ]
  },
  {
   "cell_type": "code",
   "execution_count": 51,
   "metadata": {},
   "outputs": [
    {
     "data": {
      "text/plain": [
       "customer_id                         0\n",
       "customer_unique_id                  0\n",
       "customer_zip_code_prefix            0\n",
       "customer_city                       0\n",
       "customer_state                      0\n",
       "order_id                            0\n",
       "order_status                        0\n",
       "order_purchase_timestamp            0\n",
       "order_approved_at                   0\n",
       "order_delivered_carrier_date     1637\n",
       "order_delivered_customer_date    2819\n",
       "order_estimated_delivery_date       0\n",
       "dtype: int64"
      ]
     },
     "execution_count": 51,
     "metadata": {},
     "output_type": "execute_result"
    }
   ],
   "source": [
    "#хорошо, все сработало\n",
    "for_kogort_new.isna().sum()"
   ]
  },
  {
   "cell_type": "markdown",
   "metadata": {},
   "source": [
    "<div class=\"alert alert-block alert-info\"\n",
    "<b>\n",
    "\n",
    "Необходима дата первой покупки.\n",
    "\n",
    "Для этого создадим новый столбец, где для каждого покупателя отберем минимальную(самую раннюю) дату подтверждения заказа.\n",
    "\n",
    "</b>\n",
    "</div"
   ]
  },
  {
   "cell_type": "code",
   "execution_count": 52,
   "metadata": {},
   "outputs": [],
   "source": [
    "for_kogort_new['first_purchase'] = for_kogort_new.groupby('customer_unique_id')['order_approved_at'].transform('min')"
   ]
  },
  {
   "cell_type": "markdown",
   "metadata": {},
   "source": [
    "<div class=\"alert alert-block alert-info\"\n",
    "<b>\n",
    "\n",
    "Приведем даты к месяцам\n",
    "\n",
    "</b>\n",
    "</div"
   ]
  },
  {
   "cell_type": "code",
   "execution_count": 53,
   "metadata": {},
   "outputs": [],
   "source": [
    "for_kogort_new.order_purchase_timestamp = for_kogort_new.order_purchase_timestamp.dt.strftime('%Y-%m')\n",
    "for_kogort_new.order_approved_at = for_kogort_new.order_approved_at.dt.strftime('%Y-%m')\n",
    "for_kogort_new.first_purchase = for_kogort_new['first_purchase'].dt.strftime('%Y-%m')"
   ]
  },
  {
   "cell_type": "code",
   "execution_count": 54,
   "metadata": {},
   "outputs": [
    {
     "data": {
      "text/html": [
       "<div>\n",
       "<style scoped>\n",
       "    .dataframe tbody tr th:only-of-type {\n",
       "        vertical-align: middle;\n",
       "    }\n",
       "\n",
       "    .dataframe tbody tr th {\n",
       "        vertical-align: top;\n",
       "    }\n",
       "\n",
       "    .dataframe thead th {\n",
       "        text-align: right;\n",
       "    }\n",
       "</style>\n",
       "<table border=\"1\" class=\"dataframe\">\n",
       "  <thead>\n",
       "    <tr style=\"text-align: right;\">\n",
       "      <th></th>\n",
       "      <th>customer_id</th>\n",
       "      <th>customer_unique_id</th>\n",
       "      <th>customer_zip_code_prefix</th>\n",
       "      <th>customer_city</th>\n",
       "      <th>customer_state</th>\n",
       "      <th>order_id</th>\n",
       "      <th>order_status</th>\n",
       "      <th>order_purchase_timestamp</th>\n",
       "      <th>order_approved_at</th>\n",
       "      <th>order_delivered_carrier_date</th>\n",
       "      <th>order_delivered_customer_date</th>\n",
       "      <th>order_estimated_delivery_date</th>\n",
       "      <th>first_purchase</th>\n",
       "    </tr>\n",
       "  </thead>\n",
       "  <tbody>\n",
       "    <tr>\n",
       "      <th>0</th>\n",
       "      <td>06b8999e2fba1a1fbc88172c00ba8bc7</td>\n",
       "      <td>861eff4711a542e4b93843c6dd7febb0</td>\n",
       "      <td>14409</td>\n",
       "      <td>franca</td>\n",
       "      <td>SP</td>\n",
       "      <td>00e7ee1b050b8499577073aeb2a297a1</td>\n",
       "      <td>delivered</td>\n",
       "      <td>2017-05</td>\n",
       "      <td>2017-05</td>\n",
       "      <td>2017-05-23 10:47:57</td>\n",
       "      <td>2017-05-25 10:35:35</td>\n",
       "      <td>2017-06-05</td>\n",
       "      <td>2017-05</td>\n",
       "    </tr>\n",
       "    <tr>\n",
       "      <th>1</th>\n",
       "      <td>18955e83d337fd6b2def6b18a428ac77</td>\n",
       "      <td>290c77bc529b7ac935b93aa66c333dc3</td>\n",
       "      <td>9790</td>\n",
       "      <td>sao bernardo do campo</td>\n",
       "      <td>SP</td>\n",
       "      <td>29150127e6685892b6eab3eec79f59c7</td>\n",
       "      <td>delivered</td>\n",
       "      <td>2018-01</td>\n",
       "      <td>2018-01</td>\n",
       "      <td>2018-01-15 17:14:59</td>\n",
       "      <td>2018-01-29 12:41:19</td>\n",
       "      <td>2018-02-06</td>\n",
       "      <td>2018-01</td>\n",
       "    </tr>\n",
       "    <tr>\n",
       "      <th>2</th>\n",
       "      <td>4e7b3e00288586ebd08712fdd0374a03</td>\n",
       "      <td>060e732b5b29e8181a18229c7b0b2b5e</td>\n",
       "      <td>1151</td>\n",
       "      <td>sao paulo</td>\n",
       "      <td>SP</td>\n",
       "      <td>b2059ed67ce144a36e2aa97d2c9e9ad2</td>\n",
       "      <td>delivered</td>\n",
       "      <td>2018-05</td>\n",
       "      <td>2018-05</td>\n",
       "      <td>2018-06-11 14:31:00</td>\n",
       "      <td>2018-06-14 17:58:51</td>\n",
       "      <td>2018-06-13</td>\n",
       "      <td>2018-05</td>\n",
       "    </tr>\n",
       "    <tr>\n",
       "      <th>3</th>\n",
       "      <td>b2b6027bc5c5109e529d4dc6358b12c3</td>\n",
       "      <td>259dac757896d24d7702b9acbbff3f3c</td>\n",
       "      <td>8775</td>\n",
       "      <td>mogi das cruzes</td>\n",
       "      <td>SP</td>\n",
       "      <td>951670f92359f4fe4a63112aa7306eba</td>\n",
       "      <td>delivered</td>\n",
       "      <td>2018-03</td>\n",
       "      <td>2018-03</td>\n",
       "      <td>2018-03-27 23:22:42</td>\n",
       "      <td>2018-03-28 16:04:25</td>\n",
       "      <td>2018-04-10</td>\n",
       "      <td>2018-03</td>\n",
       "    </tr>\n",
       "    <tr>\n",
       "      <th>4</th>\n",
       "      <td>4f2d8ab171c80ec8364f7c12e35b23ad</td>\n",
       "      <td>345ecd01c38d18a9036ed96c73b8d066</td>\n",
       "      <td>13056</td>\n",
       "      <td>campinas</td>\n",
       "      <td>SP</td>\n",
       "      <td>6b7d50bd145f6fc7f33cebabd7e49d0f</td>\n",
       "      <td>delivered</td>\n",
       "      <td>2018-07</td>\n",
       "      <td>2018-07</td>\n",
       "      <td>2018-07-30 15:16:00</td>\n",
       "      <td>2018-08-09 20:55:48</td>\n",
       "      <td>2018-08-15</td>\n",
       "      <td>2018-07</td>\n",
       "    </tr>\n",
       "  </tbody>\n",
       "</table>\n",
       "</div>"
      ],
      "text/plain": [
       "                        customer_id                customer_unique_id  \\\n",
       "0  06b8999e2fba1a1fbc88172c00ba8bc7  861eff4711a542e4b93843c6dd7febb0   \n",
       "1  18955e83d337fd6b2def6b18a428ac77  290c77bc529b7ac935b93aa66c333dc3   \n",
       "2  4e7b3e00288586ebd08712fdd0374a03  060e732b5b29e8181a18229c7b0b2b5e   \n",
       "3  b2b6027bc5c5109e529d4dc6358b12c3  259dac757896d24d7702b9acbbff3f3c   \n",
       "4  4f2d8ab171c80ec8364f7c12e35b23ad  345ecd01c38d18a9036ed96c73b8d066   \n",
       "\n",
       "   customer_zip_code_prefix          customer_city customer_state  \\\n",
       "0                     14409                 franca             SP   \n",
       "1                      9790  sao bernardo do campo             SP   \n",
       "2                      1151              sao paulo             SP   \n",
       "3                      8775        mogi das cruzes             SP   \n",
       "4                     13056               campinas             SP   \n",
       "\n",
       "                           order_id order_status order_purchase_timestamp  \\\n",
       "0  00e7ee1b050b8499577073aeb2a297a1    delivered                  2017-05   \n",
       "1  29150127e6685892b6eab3eec79f59c7    delivered                  2018-01   \n",
       "2  b2059ed67ce144a36e2aa97d2c9e9ad2    delivered                  2018-05   \n",
       "3  951670f92359f4fe4a63112aa7306eba    delivered                  2018-03   \n",
       "4  6b7d50bd145f6fc7f33cebabd7e49d0f    delivered                  2018-07   \n",
       "\n",
       "  order_approved_at order_delivered_carrier_date  \\\n",
       "0           2017-05          2017-05-23 10:47:57   \n",
       "1           2018-01          2018-01-15 17:14:59   \n",
       "2           2018-05          2018-06-11 14:31:00   \n",
       "3           2018-03          2018-03-27 23:22:42   \n",
       "4           2018-07          2018-07-30 15:16:00   \n",
       "\n",
       "  order_delivered_customer_date order_estimated_delivery_date first_purchase  \n",
       "0           2017-05-25 10:35:35                    2017-06-05        2017-05  \n",
       "1           2018-01-29 12:41:19                    2018-02-06        2018-01  \n",
       "2           2018-06-14 17:58:51                    2018-06-13        2018-05  \n",
       "3           2018-03-28 16:04:25                    2018-04-10        2018-03  \n",
       "4           2018-08-09 20:55:48                    2018-08-15        2018-07  "
      ]
     },
     "execution_count": 54,
     "metadata": {},
     "output_type": "execute_result"
    }
   ],
   "source": [
    "for_kogort_new.head()"
   ]
  },
  {
   "cell_type": "markdown",
   "metadata": {},
   "source": [
    "<div class=\"alert alert-block alert-info\"\n",
    "<b>\n",
    "\n",
    "Найдем число уникальных покупателей в период с января по декабрь.\n",
    "\n",
    "Для чего отберем только те строки, где статус заказа говорит о покупке,\n",
    "вырем строки, где первая покупка была сделана в промежуток с января по декабрь,\n",
    "сгруппируем по датам покупки и посчитаем число уникальных покупателей.\n",
    "\n",
    "</b>\n",
    "</div"
   ]
  },
  {
   "cell_type": "code",
   "execution_count": 55,
   "metadata": {},
   "outputs": [],
   "source": [
    "for_kogort_table = for_kogort_new.query('order_status == [\"processing\", \"shipped\", \"delivered\"]')\\\n",
    "    .query(\"'2017-01' <= first_purchase <= '2017-12'\")\\\n",
    "    .groupby(['first_purchase', 'order_approved_at'],as_index=False).agg({'customer_unique_id': 'nunique'})"
   ]
  },
  {
   "cell_type": "markdown",
   "metadata": {},
   "source": [
    "<div class=\"alert alert-block alert-info\"\n",
    "<b>\n",
    "\n",
    "Приведем к номеру месяца\n",
    "\n",
    "</b>\n",
    "</div"
   ]
  },
  {
   "cell_type": "code",
   "execution_count": 56,
   "metadata": {},
   "outputs": [],
   "source": [
    "for_kogort_table.first_purchase = pd.to_datetime(for_kogort_table.first_purchase).dt.to_period(\"m\")\n",
    "for_kogort_table.order_approved_at = pd.to_datetime(for_kogort_table.order_approved_at).dt.to_period(\"m\")"
   ]
  },
  {
   "cell_type": "markdown",
   "metadata": {},
   "source": [
    "<div class=\"alert alert-block alert-info\"\n",
    "<b>\n",
    "\n",
    "Посчитаем число месяцев с первой покупки до последующего подтвержения заказа\n",
    "\n",
    "</b>\n",
    "</div"
   ]
  },
  {
   "cell_type": "code",
   "execution_count": 57,
   "metadata": {},
   "outputs": [],
   "source": [
    "for_kogort_table['diff'] = (for_kogort_table.order_approved_at - for_kogort_table.first_purchase).apply(attrgetter(\"n\"))"
   ]
  },
  {
   "cell_type": "code",
   "execution_count": 58,
   "metadata": {},
   "outputs": [],
   "source": [
    "for_kogort_table_finish = for_kogort_table.pivot(index='first_purchase', columns = 'diff', values = 'customer_unique_id')"
   ]
  },
  {
   "cell_type": "code",
   "execution_count": 59,
   "metadata": {},
   "outputs": [
    {
     "data": {
      "text/html": [
       "<style  type=\"text/css\" >\n",
       "#T_a438cf6a_94e7_11ed_bdbb_96000040dfb6row0_col0,#T_a438cf6a_94e7_11ed_bdbb_96000040dfb6row0_col18,#T_a438cf6a_94e7_11ed_bdbb_96000040dfb6row1_col0,#T_a438cf6a_94e7_11ed_bdbb_96000040dfb6row1_col1,#T_a438cf6a_94e7_11ed_bdbb_96000040dfb6row1_col5,#T_a438cf6a_94e7_11ed_bdbb_96000040dfb6row1_col10,#T_a438cf6a_94e7_11ed_bdbb_96000040dfb6row1_col15,#T_a438cf6a_94e7_11ed_bdbb_96000040dfb6row1_col16,#T_a438cf6a_94e7_11ed_bdbb_96000040dfb6row2_col0,#T_a438cf6a_94e7_11ed_bdbb_96000040dfb6row2_col17,#T_a438cf6a_94e7_11ed_bdbb_96000040dfb6row3_col0,#T_a438cf6a_94e7_11ed_bdbb_96000040dfb6row3_col2,#T_a438cf6a_94e7_11ed_bdbb_96000040dfb6row3_col12,#T_a438cf6a_94e7_11ed_bdbb_96000040dfb6row3_col13,#T_a438cf6a_94e7_11ed_bdbb_96000040dfb6row3_col14,#T_a438cf6a_94e7_11ed_bdbb_96000040dfb6row4_col0,#T_a438cf6a_94e7_11ed_bdbb_96000040dfb6row5_col0,#T_a438cf6a_94e7_11ed_bdbb_96000040dfb6row6_col0,#T_a438cf6a_94e7_11ed_bdbb_96000040dfb6row7_col0,#T_a438cf6a_94e7_11ed_bdbb_96000040dfb6row8_col0,#T_a438cf6a_94e7_11ed_bdbb_96000040dfb6row8_col11,#T_a438cf6a_94e7_11ed_bdbb_96000040dfb6row9_col0,#T_a438cf6a_94e7_11ed_bdbb_96000040dfb6row9_col3,#T_a438cf6a_94e7_11ed_bdbb_96000040dfb6row10_col0,#T_a438cf6a_94e7_11ed_bdbb_96000040dfb6row10_col4,#T_a438cf6a_94e7_11ed_bdbb_96000040dfb6row10_col6,#T_a438cf6a_94e7_11ed_bdbb_96000040dfb6row10_col8,#T_a438cf6a_94e7_11ed_bdbb_96000040dfb6row10_col9,#T_a438cf6a_94e7_11ed_bdbb_96000040dfb6row11_col0,#T_a438cf6a_94e7_11ed_bdbb_96000040dfb6row11_col7{\n",
       "            background-color:  #440154;\n",
       "            color:  #f1f1f1;\n",
       "        }#T_a438cf6a_94e7_11ed_bdbb_96000040dfb6row0_col1{\n",
       "            background-color:  #50c46a;\n",
       "            color:  #000000;\n",
       "        }#T_a438cf6a_94e7_11ed_bdbb_96000040dfb6row0_col2,#T_a438cf6a_94e7_11ed_bdbb_96000040dfb6row5_col13{\n",
       "            background-color:  #3e4a89;\n",
       "            color:  #f1f1f1;\n",
       "        }#T_a438cf6a_94e7_11ed_bdbb_96000040dfb6row0_col3{\n",
       "            background-color:  #453882;\n",
       "            color:  #f1f1f1;\n",
       "        }#T_a438cf6a_94e7_11ed_bdbb_96000040dfb6row0_col4,#T_a438cf6a_94e7_11ed_bdbb_96000040dfb6row0_col6,#T_a438cf6a_94e7_11ed_bdbb_96000040dfb6row0_col12,#T_a438cf6a_94e7_11ed_bdbb_96000040dfb6row0_col13,#T_a438cf6a_94e7_11ed_bdbb_96000040dfb6row0_col16,#T_a438cf6a_94e7_11ed_bdbb_96000040dfb6row0_col17,#T_a438cf6a_94e7_11ed_bdbb_96000040dfb6row2_col10,#T_a438cf6a_94e7_11ed_bdbb_96000040dfb6row3_col8,#T_a438cf6a_94e7_11ed_bdbb_96000040dfb6row4_col2,#T_a438cf6a_94e7_11ed_bdbb_96000040dfb6row4_col3,#T_a438cf6a_94e7_11ed_bdbb_96000040dfb6row4_col6,#T_a438cf6a_94e7_11ed_bdbb_96000040dfb6row4_col9,#T_a438cf6a_94e7_11ed_bdbb_96000040dfb6row4_col14,#T_a438cf6a_94e7_11ed_bdbb_96000040dfb6row4_col15,#T_a438cf6a_94e7_11ed_bdbb_96000040dfb6row5_col11,#T_a438cf6a_94e7_11ed_bdbb_96000040dfb6row7_col5,#T_a438cf6a_94e7_11ed_bdbb_96000040dfb6row9_col1,#T_a438cf6a_94e7_11ed_bdbb_96000040dfb6row9_col7{\n",
       "            background-color:  #fde725;\n",
       "            color:  #000000;\n",
       "        }#T_a438cf6a_94e7_11ed_bdbb_96000040dfb6row0_col5,#T_a438cf6a_94e7_11ed_bdbb_96000040dfb6row7_col12{\n",
       "            background-color:  #481467;\n",
       "            color:  #f1f1f1;\n",
       "        }#T_a438cf6a_94e7_11ed_bdbb_96000040dfb6row0_col7,#T_a438cf6a_94e7_11ed_bdbb_96000040dfb6row1_col17{\n",
       "            background-color:  #32648e;\n",
       "            color:  #f1f1f1;\n",
       "        }#T_a438cf6a_94e7_11ed_bdbb_96000040dfb6row0_col8,#T_a438cf6a_94e7_11ed_bdbb_96000040dfb6row5_col12{\n",
       "            background-color:  #472a7a;\n",
       "            color:  #f1f1f1;\n",
       "        }#T_a438cf6a_94e7_11ed_bdbb_96000040dfb6row0_col9,#T_a438cf6a_94e7_11ed_bdbb_96000040dfb6row3_col17,#T_a438cf6a_94e7_11ed_bdbb_96000040dfb6row4_col16,#T_a438cf6a_94e7_11ed_bdbb_96000040dfb6row4_col17,#T_a438cf6a_94e7_11ed_bdbb_96000040dfb6row5_col15,#T_a438cf6a_94e7_11ed_bdbb_96000040dfb6row5_col16,#T_a438cf6a_94e7_11ed_bdbb_96000040dfb6row5_col17,#T_a438cf6a_94e7_11ed_bdbb_96000040dfb6row6_col14,#T_a438cf6a_94e7_11ed_bdbb_96000040dfb6row6_col15,#T_a438cf6a_94e7_11ed_bdbb_96000040dfb6row6_col16,#T_a438cf6a_94e7_11ed_bdbb_96000040dfb6row6_col17,#T_a438cf6a_94e7_11ed_bdbb_96000040dfb6row7_col13,#T_a438cf6a_94e7_11ed_bdbb_96000040dfb6row7_col14,#T_a438cf6a_94e7_11ed_bdbb_96000040dfb6row7_col15,#T_a438cf6a_94e7_11ed_bdbb_96000040dfb6row7_col16,#T_a438cf6a_94e7_11ed_bdbb_96000040dfb6row7_col17,#T_a438cf6a_94e7_11ed_bdbb_96000040dfb6row8_col12,#T_a438cf6a_94e7_11ed_bdbb_96000040dfb6row8_col13,#T_a438cf6a_94e7_11ed_bdbb_96000040dfb6row8_col14,#T_a438cf6a_94e7_11ed_bdbb_96000040dfb6row8_col15,#T_a438cf6a_94e7_11ed_bdbb_96000040dfb6row8_col16,#T_a438cf6a_94e7_11ed_bdbb_96000040dfb6row8_col17,#T_a438cf6a_94e7_11ed_bdbb_96000040dfb6row9_col11,#T_a438cf6a_94e7_11ed_bdbb_96000040dfb6row9_col12,#T_a438cf6a_94e7_11ed_bdbb_96000040dfb6row9_col13,#T_a438cf6a_94e7_11ed_bdbb_96000040dfb6row9_col14,#T_a438cf6a_94e7_11ed_bdbb_96000040dfb6row9_col15,#T_a438cf6a_94e7_11ed_bdbb_96000040dfb6row9_col16,#T_a438cf6a_94e7_11ed_bdbb_96000040dfb6row9_col17,#T_a438cf6a_94e7_11ed_bdbb_96000040dfb6row10_col10,#T_a438cf6a_94e7_11ed_bdbb_96000040dfb6row10_col11,#T_a438cf6a_94e7_11ed_bdbb_96000040dfb6row10_col12,#T_a438cf6a_94e7_11ed_bdbb_96000040dfb6row10_col13,#T_a438cf6a_94e7_11ed_bdbb_96000040dfb6row10_col14,#T_a438cf6a_94e7_11ed_bdbb_96000040dfb6row10_col15,#T_a438cf6a_94e7_11ed_bdbb_96000040dfb6row10_col16,#T_a438cf6a_94e7_11ed_bdbb_96000040dfb6row10_col17,#T_a438cf6a_94e7_11ed_bdbb_96000040dfb6row11_col9,#T_a438cf6a_94e7_11ed_bdbb_96000040dfb6row11_col10,#T_a438cf6a_94e7_11ed_bdbb_96000040dfb6row11_col11,#T_a438cf6a_94e7_11ed_bdbb_96000040dfb6row11_col12,#T_a438cf6a_94e7_11ed_bdbb_96000040dfb6row11_col13,#T_a438cf6a_94e7_11ed_bdbb_96000040dfb6row11_col14,#T_a438cf6a_94e7_11ed_bdbb_96000040dfb6row11_col15,#T_a438cf6a_94e7_11ed_bdbb_96000040dfb6row11_col16,#T_a438cf6a_94e7_11ed_bdbb_96000040dfb6row11_col17{\n",
       "            background-color:  #000000;\n",
       "            color:  #f1f1f1;\n",
       "            background-color:  white;\n",
       "        }#T_a438cf6a_94e7_11ed_bdbb_96000040dfb6row0_col10,#T_a438cf6a_94e7_11ed_bdbb_96000040dfb6row4_col10{\n",
       "            background-color:  #4ac16d;\n",
       "            color:  #000000;\n",
       "        }#T_a438cf6a_94e7_11ed_bdbb_96000040dfb6row0_col11{\n",
       "            background-color:  #5cc863;\n",
       "            color:  #000000;\n",
       "        }#T_a438cf6a_94e7_11ed_bdbb_96000040dfb6row0_col14,#T_a438cf6a_94e7_11ed_bdbb_96000040dfb6row5_col5,#T_a438cf6a_94e7_11ed_bdbb_96000040dfb6row10_col7{\n",
       "            background-color:  #218e8d;\n",
       "            color:  #000000;\n",
       "        }#T_a438cf6a_94e7_11ed_bdbb_96000040dfb6row0_col15,#T_a438cf6a_94e7_11ed_bdbb_96000040dfb6row9_col6{\n",
       "            background-color:  #287d8e;\n",
       "            color:  #000000;\n",
       "        }#T_a438cf6a_94e7_11ed_bdbb_96000040dfb6row1_col2,#T_a438cf6a_94e7_11ed_bdbb_96000040dfb6row2_col16{\n",
       "            background-color:  #481c6e;\n",
       "            color:  #f1f1f1;\n",
       "        }#T_a438cf6a_94e7_11ed_bdbb_96000040dfb6row1_col3{\n",
       "            background-color:  #365d8d;\n",
       "            color:  #f1f1f1;\n",
       "        }#T_a438cf6a_94e7_11ed_bdbb_96000040dfb6row1_col4{\n",
       "            background-color:  #f4e61e;\n",
       "            color:  #000000;\n",
       "        }#T_a438cf6a_94e7_11ed_bdbb_96000040dfb6row1_col6{\n",
       "            background-color:  #2c728e;\n",
       "            color:  #f1f1f1;\n",
       "        }#T_a438cf6a_94e7_11ed_bdbb_96000040dfb6row1_col7{\n",
       "            background-color:  #26818e;\n",
       "            color:  #000000;\n",
       "        }#T_a438cf6a_94e7_11ed_bdbb_96000040dfb6row1_col8{\n",
       "            background-color:  #460a5d;\n",
       "            color:  #f1f1f1;\n",
       "        }#T_a438cf6a_94e7_11ed_bdbb_96000040dfb6row1_col9{\n",
       "            background-color:  #cde11d;\n",
       "            color:  #000000;\n",
       "        }#T_a438cf6a_94e7_11ed_bdbb_96000040dfb6row1_col11{\n",
       "            background-color:  #81d34d;\n",
       "            color:  #000000;\n",
       "        }#T_a438cf6a_94e7_11ed_bdbb_96000040dfb6row1_col12{\n",
       "            background-color:  #463480;\n",
       "            color:  #f1f1f1;\n",
       "        }#T_a438cf6a_94e7_11ed_bdbb_96000040dfb6row1_col13{\n",
       "            background-color:  #2e6e8e;\n",
       "            color:  #f1f1f1;\n",
       "        }#T_a438cf6a_94e7_11ed_bdbb_96000040dfb6row1_col14{\n",
       "            background-color:  #355e8d;\n",
       "            color:  #f1f1f1;\n",
       "        }#T_a438cf6a_94e7_11ed_bdbb_96000040dfb6row1_col18,#T_a438cf6a_94e7_11ed_bdbb_96000040dfb6row2_col18,#T_a438cf6a_94e7_11ed_bdbb_96000040dfb6row3_col18,#T_a438cf6a_94e7_11ed_bdbb_96000040dfb6row4_col18,#T_a438cf6a_94e7_11ed_bdbb_96000040dfb6row5_col18,#T_a438cf6a_94e7_11ed_bdbb_96000040dfb6row6_col18,#T_a438cf6a_94e7_11ed_bdbb_96000040dfb6row7_col18,#T_a438cf6a_94e7_11ed_bdbb_96000040dfb6row8_col18,#T_a438cf6a_94e7_11ed_bdbb_96000040dfb6row9_col18,#T_a438cf6a_94e7_11ed_bdbb_96000040dfb6row10_col18,#T_a438cf6a_94e7_11ed_bdbb_96000040dfb6row11_col18{\n",
       "            background-color:  #440154;\n",
       "            color:  #f1f1f1;\n",
       "            background-color:  white;\n",
       "        }#T_a438cf6a_94e7_11ed_bdbb_96000040dfb6row2_col1{\n",
       "            background-color:  #21a585;\n",
       "            color:  #000000;\n",
       "        }#T_a438cf6a_94e7_11ed_bdbb_96000040dfb6row2_col2{\n",
       "            background-color:  #25838e;\n",
       "            color:  #000000;\n",
       "        }#T_a438cf6a_94e7_11ed_bdbb_96000040dfb6row2_col3{\n",
       "            background-color:  #95d840;\n",
       "            color:  #000000;\n",
       "        }#T_a438cf6a_94e7_11ed_bdbb_96000040dfb6row2_col4,#T_a438cf6a_94e7_11ed_bdbb_96000040dfb6row4_col1{\n",
       "            background-color:  #34b679;\n",
       "            color:  #000000;\n",
       "        }#T_a438cf6a_94e7_11ed_bdbb_96000040dfb6row2_col5{\n",
       "            background-color:  #481f70;\n",
       "            color:  #f1f1f1;\n",
       "        }#T_a438cf6a_94e7_11ed_bdbb_96000040dfb6row2_col6{\n",
       "            background-color:  #482173;\n",
       "            color:  #f1f1f1;\n",
       "        }#T_a438cf6a_94e7_11ed_bdbb_96000040dfb6row2_col7,#T_a438cf6a_94e7_11ed_bdbb_96000040dfb6row3_col1{\n",
       "            background-color:  #8bd646;\n",
       "            color:  #000000;\n",
       "        }#T_a438cf6a_94e7_11ed_bdbb_96000040dfb6row2_col8{\n",
       "            background-color:  #90d743;\n",
       "            color:  #000000;\n",
       "        }#T_a438cf6a_94e7_11ed_bdbb_96000040dfb6row2_col9{\n",
       "            background-color:  #3c508b;\n",
       "            color:  #f1f1f1;\n",
       "        }#T_a438cf6a_94e7_11ed_bdbb_96000040dfb6row2_col11,#T_a438cf6a_94e7_11ed_bdbb_96000040dfb6row9_col5{\n",
       "            background-color:  #453581;\n",
       "            color:  #f1f1f1;\n",
       "        }#T_a438cf6a_94e7_11ed_bdbb_96000040dfb6row2_col12{\n",
       "            background-color:  #3d4d8a;\n",
       "            color:  #f1f1f1;\n",
       "        }#T_a438cf6a_94e7_11ed_bdbb_96000040dfb6row2_col13{\n",
       "            background-color:  #424086;\n",
       "            color:  #f1f1f1;\n",
       "        }#T_a438cf6a_94e7_11ed_bdbb_96000040dfb6row2_col14{\n",
       "            background-color:  #25ab82;\n",
       "            color:  #000000;\n",
       "        }#T_a438cf6a_94e7_11ed_bdbb_96000040dfb6row2_col15{\n",
       "            background-color:  #b2dd2d;\n",
       "            color:  #000000;\n",
       "        }#T_a438cf6a_94e7_11ed_bdbb_96000040dfb6row3_col3{\n",
       "            background-color:  #38588c;\n",
       "            color:  #f1f1f1;\n",
       "        }#T_a438cf6a_94e7_11ed_bdbb_96000040dfb6row3_col4{\n",
       "            background-color:  #23898e;\n",
       "            color:  #000000;\n",
       "        }#T_a438cf6a_94e7_11ed_bdbb_96000040dfb6row3_col5{\n",
       "            background-color:  #2f6b8e;\n",
       "            color:  #f1f1f1;\n",
       "        }#T_a438cf6a_94e7_11ed_bdbb_96000040dfb6row3_col6{\n",
       "            background-color:  #5ac864;\n",
       "            color:  #000000;\n",
       "        }#T_a438cf6a_94e7_11ed_bdbb_96000040dfb6row3_col7{\n",
       "            background-color:  #3bbb75;\n",
       "            color:  #000000;\n",
       "        }#T_a438cf6a_94e7_11ed_bdbb_96000040dfb6row3_col9{\n",
       "            background-color:  #1fa088;\n",
       "            color:  #000000;\n",
       "        }#T_a438cf6a_94e7_11ed_bdbb_96000040dfb6row3_col10,#T_a438cf6a_94e7_11ed_bdbb_96000040dfb6row11_col8{\n",
       "            background-color:  #277f8e;\n",
       "            color:  #000000;\n",
       "        }#T_a438cf6a_94e7_11ed_bdbb_96000040dfb6row3_col11{\n",
       "            background-color:  #471365;\n",
       "            color:  #f1f1f1;\n",
       "        }#T_a438cf6a_94e7_11ed_bdbb_96000040dfb6row3_col15{\n",
       "            background-color:  #46307e;\n",
       "            color:  #f1f1f1;\n",
       "        }#T_a438cf6a_94e7_11ed_bdbb_96000040dfb6row3_col16{\n",
       "            background-color:  #48c16e;\n",
       "            color:  #000000;\n",
       "        }#T_a438cf6a_94e7_11ed_bdbb_96000040dfb6row4_col4{\n",
       "            background-color:  #21908d;\n",
       "            color:  #000000;\n",
       "        }#T_a438cf6a_94e7_11ed_bdbb_96000040dfb6row4_col5,#T_a438cf6a_94e7_11ed_bdbb_96000040dfb6row7_col9{\n",
       "            background-color:  #1f988b;\n",
       "            color:  #000000;\n",
       "        }#T_a438cf6a_94e7_11ed_bdbb_96000040dfb6row4_col7{\n",
       "            background-color:  #29798e;\n",
       "            color:  #000000;\n",
       "        }#T_a438cf6a_94e7_11ed_bdbb_96000040dfb6row4_col8{\n",
       "            background-color:  #22a884;\n",
       "            color:  #000000;\n",
       "        }#T_a438cf6a_94e7_11ed_bdbb_96000040dfb6row4_col11{\n",
       "            background-color:  #dde318;\n",
       "            color:  #000000;\n",
       "        }#T_a438cf6a_94e7_11ed_bdbb_96000040dfb6row4_col12{\n",
       "            background-color:  #433d84;\n",
       "            color:  #f1f1f1;\n",
       "        }#T_a438cf6a_94e7_11ed_bdbb_96000040dfb6row4_col13{\n",
       "            background-color:  #470d60;\n",
       "            color:  #f1f1f1;\n",
       "        }#T_a438cf6a_94e7_11ed_bdbb_96000040dfb6row5_col1{\n",
       "            background-color:  #1f9a8a;\n",
       "            color:  #000000;\n",
       "        }#T_a438cf6a_94e7_11ed_bdbb_96000040dfb6row5_col2{\n",
       "            background-color:  #23888e;\n",
       "            color:  #000000;\n",
       "        }#T_a438cf6a_94e7_11ed_bdbb_96000040dfb6row5_col3{\n",
       "            background-color:  #eae51a;\n",
       "            color:  #000000;\n",
       "        }#T_a438cf6a_94e7_11ed_bdbb_96000040dfb6row5_col4{\n",
       "            background-color:  #3a548c;\n",
       "            color:  #f1f1f1;\n",
       "        }#T_a438cf6a_94e7_11ed_bdbb_96000040dfb6row5_col6{\n",
       "            background-color:  #a8db34;\n",
       "            color:  #000000;\n",
       "        }#T_a438cf6a_94e7_11ed_bdbb_96000040dfb6row5_col7,#T_a438cf6a_94e7_11ed_bdbb_96000040dfb6row7_col3{\n",
       "            background-color:  #1fa187;\n",
       "            color:  #000000;\n",
       "        }#T_a438cf6a_94e7_11ed_bdbb_96000040dfb6row5_col8,#T_a438cf6a_94e7_11ed_bdbb_96000040dfb6row11_col1{\n",
       "            background-color:  #48186a;\n",
       "            color:  #f1f1f1;\n",
       "        }#T_a438cf6a_94e7_11ed_bdbb_96000040dfb6row5_col9{\n",
       "            background-color:  #93d741;\n",
       "            color:  #000000;\n",
       "        }#T_a438cf6a_94e7_11ed_bdbb_96000040dfb6row5_col10{\n",
       "            background-color:  #b0dd2f;\n",
       "            color:  #000000;\n",
       "        }#T_a438cf6a_94e7_11ed_bdbb_96000040dfb6row5_col14{\n",
       "            background-color:  #e2e418;\n",
       "            color:  #000000;\n",
       "        }#T_a438cf6a_94e7_11ed_bdbb_96000040dfb6row6_col1,#T_a438cf6a_94e7_11ed_bdbb_96000040dfb6row6_col4{\n",
       "            background-color:  #2db27d;\n",
       "            color:  #000000;\n",
       "        }#T_a438cf6a_94e7_11ed_bdbb_96000040dfb6row6_col2{\n",
       "            background-color:  #27808e;\n",
       "            color:  #000000;\n",
       "        }#T_a438cf6a_94e7_11ed_bdbb_96000040dfb6row6_col3{\n",
       "            background-color:  #2a768e;\n",
       "            color:  #f1f1f1;\n",
       "        }#T_a438cf6a_94e7_11ed_bdbb_96000040dfb6row6_col5{\n",
       "            background-color:  #453781;\n",
       "            color:  #f1f1f1;\n",
       "        }#T_a438cf6a_94e7_11ed_bdbb_96000040dfb6row6_col6{\n",
       "            background-color:  #2cb17e;\n",
       "            color:  #000000;\n",
       "        }#T_a438cf6a_94e7_11ed_bdbb_96000040dfb6row6_col7,#T_a438cf6a_94e7_11ed_bdbb_96000040dfb6row10_col3{\n",
       "            background-color:  #3f4788;\n",
       "            color:  #f1f1f1;\n",
       "        }#T_a438cf6a_94e7_11ed_bdbb_96000040dfb6row6_col8{\n",
       "            background-color:  #34608d;\n",
       "            color:  #f1f1f1;\n",
       "        }#T_a438cf6a_94e7_11ed_bdbb_96000040dfb6row6_col9{\n",
       "            background-color:  #c5e021;\n",
       "            color:  #000000;\n",
       "        }#T_a438cf6a_94e7_11ed_bdbb_96000040dfb6row6_col10{\n",
       "            background-color:  #1f948c;\n",
       "            color:  #000000;\n",
       "        }#T_a438cf6a_94e7_11ed_bdbb_96000040dfb6row6_col11{\n",
       "            background-color:  #6ccd5a;\n",
       "            color:  #000000;\n",
       "        }#T_a438cf6a_94e7_11ed_bdbb_96000040dfb6row6_col12{\n",
       "            background-color:  #481b6d;\n",
       "            color:  #f1f1f1;\n",
       "        }#T_a438cf6a_94e7_11ed_bdbb_96000040dfb6row6_col13{\n",
       "            background-color:  #20a386;\n",
       "            color:  #000000;\n",
       "        }#T_a438cf6a_94e7_11ed_bdbb_96000040dfb6row7_col1{\n",
       "            background-color:  #ece51b;\n",
       "            color:  #000000;\n",
       "        }#T_a438cf6a_94e7_11ed_bdbb_96000040dfb6row7_col2{\n",
       "            background-color:  #218f8d;\n",
       "            color:  #000000;\n",
       "        }#T_a438cf6a_94e7_11ed_bdbb_96000040dfb6row7_col4{\n",
       "            background-color:  #8ed645;\n",
       "            color:  #000000;\n",
       "        }#T_a438cf6a_94e7_11ed_bdbb_96000040dfb6row7_col6{\n",
       "            background-color:  #24878e;\n",
       "            color:  #000000;\n",
       "        }#T_a438cf6a_94e7_11ed_bdbb_96000040dfb6row7_col7{\n",
       "            background-color:  #40bd72;\n",
       "            color:  #000000;\n",
       "        }#T_a438cf6a_94e7_11ed_bdbb_96000040dfb6row7_col8{\n",
       "            background-color:  #460b5e;\n",
       "            color:  #f1f1f1;\n",
       "        }#T_a438cf6a_94e7_11ed_bdbb_96000040dfb6row7_col10{\n",
       "            background-color:  #1f978b;\n",
       "            color:  #000000;\n",
       "        }#T_a438cf6a_94e7_11ed_bdbb_96000040dfb6row7_col11{\n",
       "            background-color:  #306a8e;\n",
       "            color:  #f1f1f1;\n",
       "        }#T_a438cf6a_94e7_11ed_bdbb_96000040dfb6row8_col1{\n",
       "            background-color:  #d5e21a;\n",
       "            color:  #000000;\n",
       "        }#T_a438cf6a_94e7_11ed_bdbb_96000040dfb6row8_col2{\n",
       "            background-color:  #d2e21b;\n",
       "            color:  #000000;\n",
       "        }#T_a438cf6a_94e7_11ed_bdbb_96000040dfb6row8_col3{\n",
       "            background-color:  #89d548;\n",
       "            color:  #000000;\n",
       "        }#T_a438cf6a_94e7_11ed_bdbb_96000040dfb6row8_col4{\n",
       "            background-color:  #e5e419;\n",
       "            color:  #000000;\n",
       "        }#T_a438cf6a_94e7_11ed_bdbb_96000040dfb6row8_col5{\n",
       "            background-color:  #2e6f8e;\n",
       "            color:  #f1f1f1;\n",
       "        }#T_a438cf6a_94e7_11ed_bdbb_96000040dfb6row8_col6{\n",
       "            background-color:  #33628d;\n",
       "            color:  #f1f1f1;\n",
       "        }#T_a438cf6a_94e7_11ed_bdbb_96000040dfb6row8_col7{\n",
       "            background-color:  #1f9e89;\n",
       "            color:  #000000;\n",
       "        }#T_a438cf6a_94e7_11ed_bdbb_96000040dfb6row8_col8{\n",
       "            background-color:  #a5db36;\n",
       "            color:  #000000;\n",
       "        }#T_a438cf6a_94e7_11ed_bdbb_96000040dfb6row8_col9{\n",
       "            background-color:  #1e9b8a;\n",
       "            color:  #000000;\n",
       "        }#T_a438cf6a_94e7_11ed_bdbb_96000040dfb6row8_col10{\n",
       "            background-color:  #2fb47c;\n",
       "            color:  #000000;\n",
       "        }#T_a438cf6a_94e7_11ed_bdbb_96000040dfb6row9_col2{\n",
       "            background-color:  #38598c;\n",
       "            color:  #f1f1f1;\n",
       "        }#T_a438cf6a_94e7_11ed_bdbb_96000040dfb6row9_col4{\n",
       "            background-color:  #472f7d;\n",
       "            color:  #f1f1f1;\n",
       "        }#T_a438cf6a_94e7_11ed_bdbb_96000040dfb6row9_col8{\n",
       "            background-color:  #3fbc73;\n",
       "            color:  #000000;\n",
       "        }#T_a438cf6a_94e7_11ed_bdbb_96000040dfb6row9_col9{\n",
       "            background-color:  #58c765;\n",
       "            color:  #000000;\n",
       "        }#T_a438cf6a_94e7_11ed_bdbb_96000040dfb6row9_col10{\n",
       "            background-color:  #2c738e;\n",
       "            color:  #f1f1f1;\n",
       "        }#T_a438cf6a_94e7_11ed_bdbb_96000040dfb6row10_col1{\n",
       "            background-color:  #44bf70;\n",
       "            color:  #000000;\n",
       "        }#T_a438cf6a_94e7_11ed_bdbb_96000040dfb6row10_col2{\n",
       "            background-color:  #1fa188;\n",
       "            color:  #000000;\n",
       "        }#T_a438cf6a_94e7_11ed_bdbb_96000040dfb6row10_col5{\n",
       "            background-color:  #482071;\n",
       "            color:  #f1f1f1;\n",
       "        }#T_a438cf6a_94e7_11ed_bdbb_96000040dfb6row11_col2{\n",
       "            background-color:  #443b84;\n",
       "            color:  #f1f1f1;\n",
       "        }#T_a438cf6a_94e7_11ed_bdbb_96000040dfb6row11_col3{\n",
       "            background-color:  #60ca60;\n",
       "            color:  #000000;\n",
       "        }#T_a438cf6a_94e7_11ed_bdbb_96000040dfb6row11_col4{\n",
       "            background-color:  #3e4c8a;\n",
       "            color:  #f1f1f1;\n",
       "        }#T_a438cf6a_94e7_11ed_bdbb_96000040dfb6row11_col5{\n",
       "            background-color:  #423f85;\n",
       "            color:  #f1f1f1;\n",
       "        }#T_a438cf6a_94e7_11ed_bdbb_96000040dfb6row11_col6{\n",
       "            background-color:  #482878;\n",
       "            color:  #f1f1f1;\n",
       "        }</style><table id=\"T_a438cf6a_94e7_11ed_bdbb_96000040dfb6\" ><caption>Retention by cohort</caption><thead>    <tr>        <th class=\"index_name level0\" >diff</th>        <th class=\"col_heading level0 col0\" >0</th>        <th class=\"col_heading level0 col1\" >1</th>        <th class=\"col_heading level0 col2\" >2</th>        <th class=\"col_heading level0 col3\" >3</th>        <th class=\"col_heading level0 col4\" >4</th>        <th class=\"col_heading level0 col5\" >5</th>        <th class=\"col_heading level0 col6\" >6</th>        <th class=\"col_heading level0 col7\" >7</th>        <th class=\"col_heading level0 col8\" >8</th>        <th class=\"col_heading level0 col9\" >9</th>        <th class=\"col_heading level0 col10\" >10</th>        <th class=\"col_heading level0 col11\" >11</th>        <th class=\"col_heading level0 col12\" >12</th>        <th class=\"col_heading level0 col13\" >13</th>        <th class=\"col_heading level0 col14\" >14</th>        <th class=\"col_heading level0 col15\" >15</th>        <th class=\"col_heading level0 col16\" >16</th>        <th class=\"col_heading level0 col17\" >17</th>        <th class=\"col_heading level0 col18\" >19</th>    </tr>    <tr>        <th class=\"index_name level0\" >first_purchase</th>        <th class=\"blank\" ></th>        <th class=\"blank\" ></th>        <th class=\"blank\" ></th>        <th class=\"blank\" ></th>        <th class=\"blank\" ></th>        <th class=\"blank\" ></th>        <th class=\"blank\" ></th>        <th class=\"blank\" ></th>        <th class=\"blank\" ></th>        <th class=\"blank\" ></th>        <th class=\"blank\" ></th>        <th class=\"blank\" ></th>        <th class=\"blank\" ></th>        <th class=\"blank\" ></th>        <th class=\"blank\" ></th>        <th class=\"blank\" ></th>        <th class=\"blank\" ></th>        <th class=\"blank\" ></th>        <th class=\"blank\" ></th>    </tr></thead><tbody>\n",
       "                <tr>\n",
       "                        <th id=\"T_a438cf6a_94e7_11ed_bdbb_96000040dfb6level0_row0\" class=\"row_heading level0 row0\" >2017-01</th>\n",
       "                        <td id=\"T_a438cf6a_94e7_11ed_bdbb_96000040dfb6row0_col0\" class=\"data row0 col0\" >100.00%</td>\n",
       "                        <td id=\"T_a438cf6a_94e7_11ed_bdbb_96000040dfb6row0_col1\" class=\"data row0 col1\" >0.57%</td>\n",
       "                        <td id=\"T_a438cf6a_94e7_11ed_bdbb_96000040dfb6row0_col2\" class=\"data row0 col2\" >0.28%</td>\n",
       "                        <td id=\"T_a438cf6a_94e7_11ed_bdbb_96000040dfb6row0_col3\" class=\"data row0 col3\" >0.14%</td>\n",
       "                        <td id=\"T_a438cf6a_94e7_11ed_bdbb_96000040dfb6row0_col4\" class=\"data row0 col4\" >0.43%</td>\n",
       "                        <td id=\"T_a438cf6a_94e7_11ed_bdbb_96000040dfb6row0_col5\" class=\"data row0 col5\" >0.14%</td>\n",
       "                        <td id=\"T_a438cf6a_94e7_11ed_bdbb_96000040dfb6row0_col6\" class=\"data row0 col6\" >0.43%</td>\n",
       "                        <td id=\"T_a438cf6a_94e7_11ed_bdbb_96000040dfb6row0_col7\" class=\"data row0 col7\" >0.14%</td>\n",
       "                        <td id=\"T_a438cf6a_94e7_11ed_bdbb_96000040dfb6row0_col8\" class=\"data row0 col8\" >0.14%</td>\n",
       "                        <td id=\"T_a438cf6a_94e7_11ed_bdbb_96000040dfb6row0_col9\" class=\"data row0 col9\" ></td>\n",
       "                        <td id=\"T_a438cf6a_94e7_11ed_bdbb_96000040dfb6row0_col10\" class=\"data row0 col10\" >0.28%</td>\n",
       "                        <td id=\"T_a438cf6a_94e7_11ed_bdbb_96000040dfb6row0_col11\" class=\"data row0 col11\" >0.28%</td>\n",
       "                        <td id=\"T_a438cf6a_94e7_11ed_bdbb_96000040dfb6row0_col12\" class=\"data row0 col12\" >0.71%</td>\n",
       "                        <td id=\"T_a438cf6a_94e7_11ed_bdbb_96000040dfb6row0_col13\" class=\"data row0 col13\" >0.43%</td>\n",
       "                        <td id=\"T_a438cf6a_94e7_11ed_bdbb_96000040dfb6row0_col14\" class=\"data row0 col14\" >0.14%</td>\n",
       "                        <td id=\"T_a438cf6a_94e7_11ed_bdbb_96000040dfb6row0_col15\" class=\"data row0 col15\" >0.14%</td>\n",
       "                        <td id=\"T_a438cf6a_94e7_11ed_bdbb_96000040dfb6row0_col16\" class=\"data row0 col16\" >0.28%</td>\n",
       "                        <td id=\"T_a438cf6a_94e7_11ed_bdbb_96000040dfb6row0_col17\" class=\"data row0 col17\" >0.43%</td>\n",
       "                        <td id=\"T_a438cf6a_94e7_11ed_bdbb_96000040dfb6row0_col18\" class=\"data row0 col18\" >0.14%</td>\n",
       "            </tr>\n",
       "            <tr>\n",
       "                        <th id=\"T_a438cf6a_94e7_11ed_bdbb_96000040dfb6level0_row1\" class=\"row_heading level0 row1\" >2017-02</th>\n",
       "                        <td id=\"T_a438cf6a_94e7_11ed_bdbb_96000040dfb6row1_col0\" class=\"data row1 col0\" >100.00%</td>\n",
       "                        <td id=\"T_a438cf6a_94e7_11ed_bdbb_96000040dfb6row1_col1\" class=\"data row1 col1\" >0.24%</td>\n",
       "                        <td id=\"T_a438cf6a_94e7_11ed_bdbb_96000040dfb6row1_col2\" class=\"data row1 col2\" >0.24%</td>\n",
       "                        <td id=\"T_a438cf6a_94e7_11ed_bdbb_96000040dfb6row1_col3\" class=\"data row1 col3\" >0.18%</td>\n",
       "                        <td id=\"T_a438cf6a_94e7_11ed_bdbb_96000040dfb6row1_col4\" class=\"data row1 col4\" >0.42%</td>\n",
       "                        <td id=\"T_a438cf6a_94e7_11ed_bdbb_96000040dfb6row1_col5\" class=\"data row1 col5\" >0.12%</td>\n",
       "                        <td id=\"T_a438cf6a_94e7_11ed_bdbb_96000040dfb6row1_col6\" class=\"data row1 col6\" >0.24%</td>\n",
       "                        <td id=\"T_a438cf6a_94e7_11ed_bdbb_96000040dfb6row1_col7\" class=\"data row1 col7\" >0.18%</td>\n",
       "                        <td id=\"T_a438cf6a_94e7_11ed_bdbb_96000040dfb6row1_col8\" class=\"data row1 col8\" >0.12%</td>\n",
       "                        <td id=\"T_a438cf6a_94e7_11ed_bdbb_96000040dfb6row1_col9\" class=\"data row1 col9\" >0.24%</td>\n",
       "                        <td id=\"T_a438cf6a_94e7_11ed_bdbb_96000040dfb6row1_col10\" class=\"data row1 col10\" >0.12%</td>\n",
       "                        <td id=\"T_a438cf6a_94e7_11ed_bdbb_96000040dfb6row1_col11\" class=\"data row1 col11\" >0.30%</td>\n",
       "                        <td id=\"T_a438cf6a_94e7_11ed_bdbb_96000040dfb6row1_col12\" class=\"data row1 col12\" >0.18%</td>\n",
       "                        <td id=\"T_a438cf6a_94e7_11ed_bdbb_96000040dfb6row1_col13\" class=\"data row1 col13\" >0.18%</td>\n",
       "                        <td id=\"T_a438cf6a_94e7_11ed_bdbb_96000040dfb6row1_col14\" class=\"data row1 col14\" >0.12%</td>\n",
       "                        <td id=\"T_a438cf6a_94e7_11ed_bdbb_96000040dfb6row1_col15\" class=\"data row1 col15\" >0.06%</td>\n",
       "                        <td id=\"T_a438cf6a_94e7_11ed_bdbb_96000040dfb6row1_col16\" class=\"data row1 col16\" >0.06%</td>\n",
       "                        <td id=\"T_a438cf6a_94e7_11ed_bdbb_96000040dfb6row1_col17\" class=\"data row1 col17\" >0.24%</td>\n",
       "                        <td id=\"T_a438cf6a_94e7_11ed_bdbb_96000040dfb6row1_col18\" class=\"data row1 col18\" ></td>\n",
       "            </tr>\n",
       "            <tr>\n",
       "                        <th id=\"T_a438cf6a_94e7_11ed_bdbb_96000040dfb6level0_row2\" class=\"row_heading level0 row2\" >2017-03</th>\n",
       "                        <td id=\"T_a438cf6a_94e7_11ed_bdbb_96000040dfb6row2_col0\" class=\"data row2 col0\" >100.00%</td>\n",
       "                        <td id=\"T_a438cf6a_94e7_11ed_bdbb_96000040dfb6row2_col1\" class=\"data row2 col1\" >0.50%</td>\n",
       "                        <td id=\"T_a438cf6a_94e7_11ed_bdbb_96000040dfb6row2_col2\" class=\"data row2 col2\" >0.35%</td>\n",
       "                        <td id=\"T_a438cf6a_94e7_11ed_bdbb_96000040dfb6row2_col3\" class=\"data row2 col3\" >0.35%</td>\n",
       "                        <td id=\"T_a438cf6a_94e7_11ed_bdbb_96000040dfb6row2_col4\" class=\"data row2 col4\" >0.35%</td>\n",
       "                        <td id=\"T_a438cf6a_94e7_11ed_bdbb_96000040dfb6row2_col5\" class=\"data row2 col5\" >0.16%</td>\n",
       "                        <td id=\"T_a438cf6a_94e7_11ed_bdbb_96000040dfb6row2_col6\" class=\"data row2 col6\" >0.16%</td>\n",
       "                        <td id=\"T_a438cf6a_94e7_11ed_bdbb_96000040dfb6row2_col7\" class=\"data row2 col7\" >0.31%</td>\n",
       "                        <td id=\"T_a438cf6a_94e7_11ed_bdbb_96000040dfb6row2_col8\" class=\"data row2 col8\" >0.31%</td>\n",
       "                        <td id=\"T_a438cf6a_94e7_11ed_bdbb_96000040dfb6row2_col9\" class=\"data row2 col9\" >0.12%</td>\n",
       "                        <td id=\"T_a438cf6a_94e7_11ed_bdbb_96000040dfb6row2_col10\" class=\"data row2 col10\" >0.35%</td>\n",
       "                        <td id=\"T_a438cf6a_94e7_11ed_bdbb_96000040dfb6row2_col11\" class=\"data row2 col11\" >0.12%</td>\n",
       "                        <td id=\"T_a438cf6a_94e7_11ed_bdbb_96000040dfb6row2_col12\" class=\"data row2 col12\" >0.23%</td>\n",
       "                        <td id=\"T_a438cf6a_94e7_11ed_bdbb_96000040dfb6row2_col13\" class=\"data row2 col13\" >0.12%</td>\n",
       "                        <td id=\"T_a438cf6a_94e7_11ed_bdbb_96000040dfb6row2_col14\" class=\"data row2 col14\" >0.16%</td>\n",
       "                        <td id=\"T_a438cf6a_94e7_11ed_bdbb_96000040dfb6row2_col15\" class=\"data row2 col15\" >0.23%</td>\n",
       "                        <td id=\"T_a438cf6a_94e7_11ed_bdbb_96000040dfb6row2_col16\" class=\"data row2 col16\" >0.08%</td>\n",
       "                        <td id=\"T_a438cf6a_94e7_11ed_bdbb_96000040dfb6row2_col17\" class=\"data row2 col17\" >0.16%</td>\n",
       "                        <td id=\"T_a438cf6a_94e7_11ed_bdbb_96000040dfb6row2_col18\" class=\"data row2 col18\" ></td>\n",
       "            </tr>\n",
       "            <tr>\n",
       "                        <th id=\"T_a438cf6a_94e7_11ed_bdbb_96000040dfb6level0_row3\" class=\"row_heading level0 row3\" >2017-04</th>\n",
       "                        <td id=\"T_a438cf6a_94e7_11ed_bdbb_96000040dfb6row3_col0\" class=\"data row3 col0\" >100.00%</td>\n",
       "                        <td id=\"T_a438cf6a_94e7_11ed_bdbb_96000040dfb6row3_col1\" class=\"data row3 col1\" >0.61%</td>\n",
       "                        <td id=\"T_a438cf6a_94e7_11ed_bdbb_96000040dfb6row3_col2\" class=\"data row3 col2\" >0.22%</td>\n",
       "                        <td id=\"T_a438cf6a_94e7_11ed_bdbb_96000040dfb6row3_col3\" class=\"data row3 col3\" >0.17%</td>\n",
       "                        <td id=\"T_a438cf6a_94e7_11ed_bdbb_96000040dfb6row3_col4\" class=\"data row3 col4\" >0.31%</td>\n",
       "                        <td id=\"T_a438cf6a_94e7_11ed_bdbb_96000040dfb6row3_col5\" class=\"data row3 col5\" >0.26%</td>\n",
       "                        <td id=\"T_a438cf6a_94e7_11ed_bdbb_96000040dfb6row3_col6\" class=\"data row3 col6\" >0.35%</td>\n",
       "                        <td id=\"T_a438cf6a_94e7_11ed_bdbb_96000040dfb6row3_col7\" class=\"data row3 col7\" >0.26%</td>\n",
       "                        <td id=\"T_a438cf6a_94e7_11ed_bdbb_96000040dfb6row3_col8\" class=\"data row3 col8\" >0.35%</td>\n",
       "                        <td id=\"T_a438cf6a_94e7_11ed_bdbb_96000040dfb6row3_col9\" class=\"data row3 col9\" >0.17%</td>\n",
       "                        <td id=\"T_a438cf6a_94e7_11ed_bdbb_96000040dfb6row3_col10\" class=\"data row3 col10\" >0.22%</td>\n",
       "                        <td id=\"T_a438cf6a_94e7_11ed_bdbb_96000040dfb6row3_col11\" class=\"data row3 col11\" >0.09%</td>\n",
       "                        <td id=\"T_a438cf6a_94e7_11ed_bdbb_96000040dfb6row3_col12\" class=\"data row3 col12\" >0.09%</td>\n",
       "                        <td id=\"T_a438cf6a_94e7_11ed_bdbb_96000040dfb6row3_col13\" class=\"data row3 col13\" >0.04%</td>\n",
       "                        <td id=\"T_a438cf6a_94e7_11ed_bdbb_96000040dfb6row3_col14\" class=\"data row3 col14\" >0.09%</td>\n",
       "                        <td id=\"T_a438cf6a_94e7_11ed_bdbb_96000040dfb6row3_col15\" class=\"data row3 col15\" >0.09%</td>\n",
       "                        <td id=\"T_a438cf6a_94e7_11ed_bdbb_96000040dfb6row3_col16\" class=\"data row3 col16\" >0.22%</td>\n",
       "                        <td id=\"T_a438cf6a_94e7_11ed_bdbb_96000040dfb6row3_col17\" class=\"data row3 col17\" ></td>\n",
       "                        <td id=\"T_a438cf6a_94e7_11ed_bdbb_96000040dfb6row3_col18\" class=\"data row3 col18\" ></td>\n",
       "            </tr>\n",
       "            <tr>\n",
       "                        <th id=\"T_a438cf6a_94e7_11ed_bdbb_96000040dfb6level0_row4\" class=\"row_heading level0 row4\" >2017-05</th>\n",
       "                        <td id=\"T_a438cf6a_94e7_11ed_bdbb_96000040dfb6row4_col0\" class=\"data row4 col0\" >100.00%</td>\n",
       "                        <td id=\"T_a438cf6a_94e7_11ed_bdbb_96000040dfb6row4_col1\" class=\"data row4 col1\" >0.54%</td>\n",
       "                        <td id=\"T_a438cf6a_94e7_11ed_bdbb_96000040dfb6row4_col2\" class=\"data row4 col2\" >0.51%</td>\n",
       "                        <td id=\"T_a438cf6a_94e7_11ed_bdbb_96000040dfb6row4_col3\" class=\"data row4 col3\" >0.40%</td>\n",
       "                        <td id=\"T_a438cf6a_94e7_11ed_bdbb_96000040dfb6row4_col4\" class=\"data row4 col4\" >0.31%</td>\n",
       "                        <td id=\"T_a438cf6a_94e7_11ed_bdbb_96000040dfb6row4_col5\" class=\"data row4 col5\" >0.34%</td>\n",
       "                        <td id=\"T_a438cf6a_94e7_11ed_bdbb_96000040dfb6row4_col6\" class=\"data row4 col6\" >0.43%</td>\n",
       "                        <td id=\"T_a438cf6a_94e7_11ed_bdbb_96000040dfb6row4_col7\" class=\"data row4 col7\" >0.17%</td>\n",
       "                        <td id=\"T_a438cf6a_94e7_11ed_bdbb_96000040dfb6row4_col8\" class=\"data row4 col8\" >0.26%</td>\n",
       "                        <td id=\"T_a438cf6a_94e7_11ed_bdbb_96000040dfb6row4_col9\" class=\"data row4 col9\" >0.26%</td>\n",
       "                        <td id=\"T_a438cf6a_94e7_11ed_bdbb_96000040dfb6row4_col10\" class=\"data row4 col10\" >0.28%</td>\n",
       "                        <td id=\"T_a438cf6a_94e7_11ed_bdbb_96000040dfb6row4_col11\" class=\"data row4 col11\" >0.34%</td>\n",
       "                        <td id=\"T_a438cf6a_94e7_11ed_bdbb_96000040dfb6row4_col12\" class=\"data row4 col12\" >0.20%</td>\n",
       "                        <td id=\"T_a438cf6a_94e7_11ed_bdbb_96000040dfb6row4_col13\" class=\"data row4 col13\" >0.06%</td>\n",
       "                        <td id=\"T_a438cf6a_94e7_11ed_bdbb_96000040dfb6row4_col14\" class=\"data row4 col14\" >0.20%</td>\n",
       "                        <td id=\"T_a438cf6a_94e7_11ed_bdbb_96000040dfb6row4_col15\" class=\"data row4 col15\" >0.26%</td>\n",
       "                        <td id=\"T_a438cf6a_94e7_11ed_bdbb_96000040dfb6row4_col16\" class=\"data row4 col16\" ></td>\n",
       "                        <td id=\"T_a438cf6a_94e7_11ed_bdbb_96000040dfb6row4_col17\" class=\"data row4 col17\" ></td>\n",
       "                        <td id=\"T_a438cf6a_94e7_11ed_bdbb_96000040dfb6row4_col18\" class=\"data row4 col18\" ></td>\n",
       "            </tr>\n",
       "            <tr>\n",
       "                        <th id=\"T_a438cf6a_94e7_11ed_bdbb_96000040dfb6level0_row5\" class=\"row_heading level0 row5\" >2017-06</th>\n",
       "                        <td id=\"T_a438cf6a_94e7_11ed_bdbb_96000040dfb6row5_col0\" class=\"data row5 col0\" >100.00%</td>\n",
       "                        <td id=\"T_a438cf6a_94e7_11ed_bdbb_96000040dfb6row5_col1\" class=\"data row5 col1\" >0.48%</td>\n",
       "                        <td id=\"T_a438cf6a_94e7_11ed_bdbb_96000040dfb6row5_col2\" class=\"data row5 col2\" >0.35%</td>\n",
       "                        <td id=\"T_a438cf6a_94e7_11ed_bdbb_96000040dfb6row5_col3\" class=\"data row5 col3\" >0.39%</td>\n",
       "                        <td id=\"T_a438cf6a_94e7_11ed_bdbb_96000040dfb6row5_col4\" class=\"data row5 col4\" >0.26%</td>\n",
       "                        <td id=\"T_a438cf6a_94e7_11ed_bdbb_96000040dfb6row5_col5\" class=\"data row5 col5\" >0.32%</td>\n",
       "                        <td id=\"T_a438cf6a_94e7_11ed_bdbb_96000040dfb6row5_col6\" class=\"data row5 col6\" >0.39%</td>\n",
       "                        <td id=\"T_a438cf6a_94e7_11ed_bdbb_96000040dfb6row5_col7\" class=\"data row5 col7\" >0.23%</td>\n",
       "                        <td id=\"T_a438cf6a_94e7_11ed_bdbb_96000040dfb6row5_col8\" class=\"data row5 col8\" >0.13%</td>\n",
       "                        <td id=\"T_a438cf6a_94e7_11ed_bdbb_96000040dfb6row5_col9\" class=\"data row5 col9\" >0.23%</td>\n",
       "                        <td id=\"T_a438cf6a_94e7_11ed_bdbb_96000040dfb6row5_col10\" class=\"data row5 col10\" >0.32%</td>\n",
       "                        <td id=\"T_a438cf6a_94e7_11ed_bdbb_96000040dfb6row5_col11\" class=\"data row5 col11\" >0.35%</td>\n",
       "                        <td id=\"T_a438cf6a_94e7_11ed_bdbb_96000040dfb6row5_col12\" class=\"data row5 col12\" >0.16%</td>\n",
       "                        <td id=\"T_a438cf6a_94e7_11ed_bdbb_96000040dfb6row5_col13\" class=\"data row5 col13\" >0.13%</td>\n",
       "                        <td id=\"T_a438cf6a_94e7_11ed_bdbb_96000040dfb6row5_col14\" class=\"data row5 col14\" >0.19%</td>\n",
       "                        <td id=\"T_a438cf6a_94e7_11ed_bdbb_96000040dfb6row5_col15\" class=\"data row5 col15\" ></td>\n",
       "                        <td id=\"T_a438cf6a_94e7_11ed_bdbb_96000040dfb6row5_col16\" class=\"data row5 col16\" ></td>\n",
       "                        <td id=\"T_a438cf6a_94e7_11ed_bdbb_96000040dfb6row5_col17\" class=\"data row5 col17\" ></td>\n",
       "                        <td id=\"T_a438cf6a_94e7_11ed_bdbb_96000040dfb6row5_col18\" class=\"data row5 col18\" ></td>\n",
       "            </tr>\n",
       "            <tr>\n",
       "                        <th id=\"T_a438cf6a_94e7_11ed_bdbb_96000040dfb6level0_row6\" class=\"row_heading level0 row6\" >2017-07</th>\n",
       "                        <td id=\"T_a438cf6a_94e7_11ed_bdbb_96000040dfb6row6_col0\" class=\"data row6 col0\" >100.00%</td>\n",
       "                        <td id=\"T_a438cf6a_94e7_11ed_bdbb_96000040dfb6row6_col1\" class=\"data row6 col1\" >0.53%</td>\n",
       "                        <td id=\"T_a438cf6a_94e7_11ed_bdbb_96000040dfb6row6_col2\" class=\"data row6 col2\" >0.35%</td>\n",
       "                        <td id=\"T_a438cf6a_94e7_11ed_bdbb_96000040dfb6row6_col3\" class=\"data row6 col3\" >0.21%</td>\n",
       "                        <td id=\"T_a438cf6a_94e7_11ed_bdbb_96000040dfb6row6_col4\" class=\"data row6 col4\" >0.35%</td>\n",
       "                        <td id=\"T_a438cf6a_94e7_11ed_bdbb_96000040dfb6row6_col5\" class=\"data row6 col5\" >0.19%</td>\n",
       "                        <td id=\"T_a438cf6a_94e7_11ed_bdbb_96000040dfb6row6_col6\" class=\"data row6 col6\" >0.32%</td>\n",
       "                        <td id=\"T_a438cf6a_94e7_11ed_bdbb_96000040dfb6row6_col7\" class=\"data row6 col7\" >0.11%</td>\n",
       "                        <td id=\"T_a438cf6a_94e7_11ed_bdbb_96000040dfb6row6_col8\" class=\"data row6 col8\" >0.19%</td>\n",
       "                        <td id=\"T_a438cf6a_94e7_11ed_bdbb_96000040dfb6row6_col9\" class=\"data row6 col9\" >0.24%</td>\n",
       "                        <td id=\"T_a438cf6a_94e7_11ed_bdbb_96000040dfb6row6_col10\" class=\"data row6 col10\" >0.24%</td>\n",
       "                        <td id=\"T_a438cf6a_94e7_11ed_bdbb_96000040dfb6row6_col11\" class=\"data row6 col11\" >0.29%</td>\n",
       "                        <td id=\"T_a438cf6a_94e7_11ed_bdbb_96000040dfb6row6_col12\" class=\"data row6 col12\" >0.13%</td>\n",
       "                        <td id=\"T_a438cf6a_94e7_11ed_bdbb_96000040dfb6row6_col13\" class=\"data row6 col13\" >0.27%</td>\n",
       "                        <td id=\"T_a438cf6a_94e7_11ed_bdbb_96000040dfb6row6_col14\" class=\"data row6 col14\" ></td>\n",
       "                        <td id=\"T_a438cf6a_94e7_11ed_bdbb_96000040dfb6row6_col15\" class=\"data row6 col15\" ></td>\n",
       "                        <td id=\"T_a438cf6a_94e7_11ed_bdbb_96000040dfb6row6_col16\" class=\"data row6 col16\" ></td>\n",
       "                        <td id=\"T_a438cf6a_94e7_11ed_bdbb_96000040dfb6row6_col17\" class=\"data row6 col17\" ></td>\n",
       "                        <td id=\"T_a438cf6a_94e7_11ed_bdbb_96000040dfb6row6_col18\" class=\"data row6 col18\" ></td>\n",
       "            </tr>\n",
       "            <tr>\n",
       "                        <th id=\"T_a438cf6a_94e7_11ed_bdbb_96000040dfb6level0_row7\" class=\"row_heading level0 row7\" >2017-08</th>\n",
       "                        <td id=\"T_a438cf6a_94e7_11ed_bdbb_96000040dfb6row7_col0\" class=\"data row7 col0\" >100.00%</td>\n",
       "                        <td id=\"T_a438cf6a_94e7_11ed_bdbb_96000040dfb6row7_col1\" class=\"data row7 col1\" >0.68%</td>\n",
       "                        <td id=\"T_a438cf6a_94e7_11ed_bdbb_96000040dfb6row7_col2\" class=\"data row7 col2\" >0.36%</td>\n",
       "                        <td id=\"T_a438cf6a_94e7_11ed_bdbb_96000040dfb6row7_col3\" class=\"data row7 col3\" >0.27%</td>\n",
       "                        <td id=\"T_a438cf6a_94e7_11ed_bdbb_96000040dfb6row7_col4\" class=\"data row7 col4\" >0.39%</td>\n",
       "                        <td id=\"T_a438cf6a_94e7_11ed_bdbb_96000040dfb6row7_col5\" class=\"data row7 col5\" >0.53%</td>\n",
       "                        <td id=\"T_a438cf6a_94e7_11ed_bdbb_96000040dfb6row7_col6\" class=\"data row7 col6\" >0.27%</td>\n",
       "                        <td id=\"T_a438cf6a_94e7_11ed_bdbb_96000040dfb6row7_col7\" class=\"data row7 col7\" >0.27%</td>\n",
       "                        <td id=\"T_a438cf6a_94e7_11ed_bdbb_96000040dfb6row7_col8\" class=\"data row7 col8\" >0.12%</td>\n",
       "                        <td id=\"T_a438cf6a_94e7_11ed_bdbb_96000040dfb6row7_col9\" class=\"data row7 col9\" >0.17%</td>\n",
       "                        <td id=\"T_a438cf6a_94e7_11ed_bdbb_96000040dfb6row7_col10\" class=\"data row7 col10\" >0.24%</td>\n",
       "                        <td id=\"T_a438cf6a_94e7_11ed_bdbb_96000040dfb6row7_col11\" class=\"data row7 col11\" >0.17%</td>\n",
       "                        <td id=\"T_a438cf6a_94e7_11ed_bdbb_96000040dfb6row7_col12\" class=\"data row7 col12\" >0.12%</td>\n",
       "                        <td id=\"T_a438cf6a_94e7_11ed_bdbb_96000040dfb6row7_col13\" class=\"data row7 col13\" ></td>\n",
       "                        <td id=\"T_a438cf6a_94e7_11ed_bdbb_96000040dfb6row7_col14\" class=\"data row7 col14\" ></td>\n",
       "                        <td id=\"T_a438cf6a_94e7_11ed_bdbb_96000040dfb6row7_col15\" class=\"data row7 col15\" ></td>\n",
       "                        <td id=\"T_a438cf6a_94e7_11ed_bdbb_96000040dfb6row7_col16\" class=\"data row7 col16\" ></td>\n",
       "                        <td id=\"T_a438cf6a_94e7_11ed_bdbb_96000040dfb6row7_col17\" class=\"data row7 col17\" ></td>\n",
       "                        <td id=\"T_a438cf6a_94e7_11ed_bdbb_96000040dfb6row7_col18\" class=\"data row7 col18\" ></td>\n",
       "            </tr>\n",
       "            <tr>\n",
       "                        <th id=\"T_a438cf6a_94e7_11ed_bdbb_96000040dfb6level0_row8\" class=\"row_heading level0 row8\" >2017-09</th>\n",
       "                        <td id=\"T_a438cf6a_94e7_11ed_bdbb_96000040dfb6row8_col0\" class=\"data row8 col0\" >100.00%</td>\n",
       "                        <td id=\"T_a438cf6a_94e7_11ed_bdbb_96000040dfb6row8_col1\" class=\"data row8 col1\" >0.66%</td>\n",
       "                        <td id=\"T_a438cf6a_94e7_11ed_bdbb_96000040dfb6row8_col2\" class=\"data row8 col2\" >0.49%</td>\n",
       "                        <td id=\"T_a438cf6a_94e7_11ed_bdbb_96000040dfb6row8_col3\" class=\"data row8 col3\" >0.34%</td>\n",
       "                        <td id=\"T_a438cf6a_94e7_11ed_bdbb_96000040dfb6row8_col4\" class=\"data row8 col4\" >0.42%</td>\n",
       "                        <td id=\"T_a438cf6a_94e7_11ed_bdbb_96000040dfb6row8_col5\" class=\"data row8 col5\" >0.27%</td>\n",
       "                        <td id=\"T_a438cf6a_94e7_11ed_bdbb_96000040dfb6row8_col6\" class=\"data row8 col6\" >0.22%</td>\n",
       "                        <td id=\"T_a438cf6a_94e7_11ed_bdbb_96000040dfb6row8_col7\" class=\"data row8 col7\" >0.22%</td>\n",
       "                        <td id=\"T_a438cf6a_94e7_11ed_bdbb_96000040dfb6row8_col8\" class=\"data row8 col8\" >0.32%</td>\n",
       "                        <td id=\"T_a438cf6a_94e7_11ed_bdbb_96000040dfb6row8_col9\" class=\"data row8 col9\" >0.17%</td>\n",
       "                        <td id=\"T_a438cf6a_94e7_11ed_bdbb_96000040dfb6row8_col10\" class=\"data row8 col10\" >0.27%</td>\n",
       "                        <td id=\"T_a438cf6a_94e7_11ed_bdbb_96000040dfb6row8_col11\" class=\"data row8 col11\" >0.07%</td>\n",
       "                        <td id=\"T_a438cf6a_94e7_11ed_bdbb_96000040dfb6row8_col12\" class=\"data row8 col12\" ></td>\n",
       "                        <td id=\"T_a438cf6a_94e7_11ed_bdbb_96000040dfb6row8_col13\" class=\"data row8 col13\" ></td>\n",
       "                        <td id=\"T_a438cf6a_94e7_11ed_bdbb_96000040dfb6row8_col14\" class=\"data row8 col14\" ></td>\n",
       "                        <td id=\"T_a438cf6a_94e7_11ed_bdbb_96000040dfb6row8_col15\" class=\"data row8 col15\" ></td>\n",
       "                        <td id=\"T_a438cf6a_94e7_11ed_bdbb_96000040dfb6row8_col16\" class=\"data row8 col16\" ></td>\n",
       "                        <td id=\"T_a438cf6a_94e7_11ed_bdbb_96000040dfb6row8_col17\" class=\"data row8 col17\" ></td>\n",
       "                        <td id=\"T_a438cf6a_94e7_11ed_bdbb_96000040dfb6row8_col18\" class=\"data row8 col18\" ></td>\n",
       "            </tr>\n",
       "            <tr>\n",
       "                        <th id=\"T_a438cf6a_94e7_11ed_bdbb_96000040dfb6level0_row9\" class=\"row_heading level0 row9\" >2017-10</th>\n",
       "                        <td id=\"T_a438cf6a_94e7_11ed_bdbb_96000040dfb6row9_col0\" class=\"data row9 col0\" >100.00%</td>\n",
       "                        <td id=\"T_a438cf6a_94e7_11ed_bdbb_96000040dfb6row9_col1\" class=\"data row9 col1\" >0.69%</td>\n",
       "                        <td id=\"T_a438cf6a_94e7_11ed_bdbb_96000040dfb6row9_col2\" class=\"data row9 col2\" >0.30%</td>\n",
       "                        <td id=\"T_a438cf6a_94e7_11ed_bdbb_96000040dfb6row9_col3\" class=\"data row9 col3\" >0.09%</td>\n",
       "                        <td id=\"T_a438cf6a_94e7_11ed_bdbb_96000040dfb6row9_col4\" class=\"data row9 col4\" >0.23%</td>\n",
       "                        <td id=\"T_a438cf6a_94e7_11ed_bdbb_96000040dfb6row9_col5\" class=\"data row9 col5\" >0.18%</td>\n",
       "                        <td id=\"T_a438cf6a_94e7_11ed_bdbb_96000040dfb6row9_col6\" class=\"data row9 col6\" >0.25%</td>\n",
       "                        <td id=\"T_a438cf6a_94e7_11ed_bdbb_96000040dfb6row9_col7\" class=\"data row9 col7\" >0.37%</td>\n",
       "                        <td id=\"T_a438cf6a_94e7_11ed_bdbb_96000040dfb6row9_col8\" class=\"data row9 col8\" >0.28%</td>\n",
       "                        <td id=\"T_a438cf6a_94e7_11ed_bdbb_96000040dfb6row9_col9\" class=\"data row9 col9\" >0.21%</td>\n",
       "                        <td id=\"T_a438cf6a_94e7_11ed_bdbb_96000040dfb6row9_col10\" class=\"data row9 col10\" >0.21%</td>\n",
       "                        <td id=\"T_a438cf6a_94e7_11ed_bdbb_96000040dfb6row9_col11\" class=\"data row9 col11\" ></td>\n",
       "                        <td id=\"T_a438cf6a_94e7_11ed_bdbb_96000040dfb6row9_col12\" class=\"data row9 col12\" ></td>\n",
       "                        <td id=\"T_a438cf6a_94e7_11ed_bdbb_96000040dfb6row9_col13\" class=\"data row9 col13\" ></td>\n",
       "                        <td id=\"T_a438cf6a_94e7_11ed_bdbb_96000040dfb6row9_col14\" class=\"data row9 col14\" ></td>\n",
       "                        <td id=\"T_a438cf6a_94e7_11ed_bdbb_96000040dfb6row9_col15\" class=\"data row9 col15\" ></td>\n",
       "                        <td id=\"T_a438cf6a_94e7_11ed_bdbb_96000040dfb6row9_col16\" class=\"data row9 col16\" ></td>\n",
       "                        <td id=\"T_a438cf6a_94e7_11ed_bdbb_96000040dfb6row9_col17\" class=\"data row9 col17\" ></td>\n",
       "                        <td id=\"T_a438cf6a_94e7_11ed_bdbb_96000040dfb6row9_col18\" class=\"data row9 col18\" ></td>\n",
       "            </tr>\n",
       "            <tr>\n",
       "                        <th id=\"T_a438cf6a_94e7_11ed_bdbb_96000040dfb6level0_row10\" class=\"row_heading level0 row10\" >2017-11</th>\n",
       "                        <td id=\"T_a438cf6a_94e7_11ed_bdbb_96000040dfb6row10_col0\" class=\"data row10 col0\" >100.00%</td>\n",
       "                        <td id=\"T_a438cf6a_94e7_11ed_bdbb_96000040dfb6row10_col1\" class=\"data row10 col1\" >0.56%</td>\n",
       "                        <td id=\"T_a438cf6a_94e7_11ed_bdbb_96000040dfb6row10_col2\" class=\"data row10 col2\" >0.38%</td>\n",
       "                        <td id=\"T_a438cf6a_94e7_11ed_bdbb_96000040dfb6row10_col3\" class=\"data row10 col3\" >0.16%</td>\n",
       "                        <td id=\"T_a438cf6a_94e7_11ed_bdbb_96000040dfb6row10_col4\" class=\"data row10 col4\" >0.20%</td>\n",
       "                        <td id=\"T_a438cf6a_94e7_11ed_bdbb_96000040dfb6row10_col5\" class=\"data row10 col5\" >0.16%</td>\n",
       "                        <td id=\"T_a438cf6a_94e7_11ed_bdbb_96000040dfb6row10_col6\" class=\"data row10 col6\" >0.13%</td>\n",
       "                        <td id=\"T_a438cf6a_94e7_11ed_bdbb_96000040dfb6row10_col7\" class=\"data row10 col7\" >0.20%</td>\n",
       "                        <td id=\"T_a438cf6a_94e7_11ed_bdbb_96000040dfb6row10_col8\" class=\"data row10 col8\" >0.11%</td>\n",
       "                        <td id=\"T_a438cf6a_94e7_11ed_bdbb_96000040dfb6row10_col9\" class=\"data row10 col9\" >0.07%</td>\n",
       "                        <td id=\"T_a438cf6a_94e7_11ed_bdbb_96000040dfb6row10_col10\" class=\"data row10 col10\" ></td>\n",
       "                        <td id=\"T_a438cf6a_94e7_11ed_bdbb_96000040dfb6row10_col11\" class=\"data row10 col11\" ></td>\n",
       "                        <td id=\"T_a438cf6a_94e7_11ed_bdbb_96000040dfb6row10_col12\" class=\"data row10 col12\" ></td>\n",
       "                        <td id=\"T_a438cf6a_94e7_11ed_bdbb_96000040dfb6row10_col13\" class=\"data row10 col13\" ></td>\n",
       "                        <td id=\"T_a438cf6a_94e7_11ed_bdbb_96000040dfb6row10_col14\" class=\"data row10 col14\" ></td>\n",
       "                        <td id=\"T_a438cf6a_94e7_11ed_bdbb_96000040dfb6row10_col15\" class=\"data row10 col15\" ></td>\n",
       "                        <td id=\"T_a438cf6a_94e7_11ed_bdbb_96000040dfb6row10_col16\" class=\"data row10 col16\" ></td>\n",
       "                        <td id=\"T_a438cf6a_94e7_11ed_bdbb_96000040dfb6row10_col17\" class=\"data row10 col17\" ></td>\n",
       "                        <td id=\"T_a438cf6a_94e7_11ed_bdbb_96000040dfb6row10_col18\" class=\"data row10 col18\" ></td>\n",
       "            </tr>\n",
       "            <tr>\n",
       "                        <th id=\"T_a438cf6a_94e7_11ed_bdbb_96000040dfb6level0_row11\" class=\"row_heading level0 row11\" >2017-12</th>\n",
       "                        <td id=\"T_a438cf6a_94e7_11ed_bdbb_96000040dfb6row11_col0\" class=\"data row11 col0\" >100.00%</td>\n",
       "                        <td id=\"T_a438cf6a_94e7_11ed_bdbb_96000040dfb6row11_col1\" class=\"data row11 col1\" >0.27%</td>\n",
       "                        <td id=\"T_a438cf6a_94e7_11ed_bdbb_96000040dfb6row11_col2\" class=\"data row11 col2\" >0.27%</td>\n",
       "                        <td id=\"T_a438cf6a_94e7_11ed_bdbb_96000040dfb6row11_col3\" class=\"data row11 col3\" >0.32%</td>\n",
       "                        <td id=\"T_a438cf6a_94e7_11ed_bdbb_96000040dfb6row11_col4\" class=\"data row11 col4\" >0.25%</td>\n",
       "                        <td id=\"T_a438cf6a_94e7_11ed_bdbb_96000040dfb6row11_col5\" class=\"data row11 col5\" >0.20%</td>\n",
       "                        <td id=\"T_a438cf6a_94e7_11ed_bdbb_96000040dfb6row11_col6\" class=\"data row11 col6\" >0.16%</td>\n",
       "                        <td id=\"T_a438cf6a_94e7_11ed_bdbb_96000040dfb6row11_col7\" class=\"data row11 col7\" >0.04%</td>\n",
       "                        <td id=\"T_a438cf6a_94e7_11ed_bdbb_96000040dfb6row11_col8\" class=\"data row11 col8\" >0.22%</td>\n",
       "                        <td id=\"T_a438cf6a_94e7_11ed_bdbb_96000040dfb6row11_col9\" class=\"data row11 col9\" ></td>\n",
       "                        <td id=\"T_a438cf6a_94e7_11ed_bdbb_96000040dfb6row11_col10\" class=\"data row11 col10\" ></td>\n",
       "                        <td id=\"T_a438cf6a_94e7_11ed_bdbb_96000040dfb6row11_col11\" class=\"data row11 col11\" ></td>\n",
       "                        <td id=\"T_a438cf6a_94e7_11ed_bdbb_96000040dfb6row11_col12\" class=\"data row11 col12\" ></td>\n",
       "                        <td id=\"T_a438cf6a_94e7_11ed_bdbb_96000040dfb6row11_col13\" class=\"data row11 col13\" ></td>\n",
       "                        <td id=\"T_a438cf6a_94e7_11ed_bdbb_96000040dfb6row11_col14\" class=\"data row11 col14\" ></td>\n",
       "                        <td id=\"T_a438cf6a_94e7_11ed_bdbb_96000040dfb6row11_col15\" class=\"data row11 col15\" ></td>\n",
       "                        <td id=\"T_a438cf6a_94e7_11ed_bdbb_96000040dfb6row11_col16\" class=\"data row11 col16\" ></td>\n",
       "                        <td id=\"T_a438cf6a_94e7_11ed_bdbb_96000040dfb6row11_col17\" class=\"data row11 col17\" ></td>\n",
       "                        <td id=\"T_a438cf6a_94e7_11ed_bdbb_96000040dfb6row11_col18\" class=\"data row11 col18\" ></td>\n",
       "            </tr>\n",
       "    </tbody></table>"
      ],
      "text/plain": [
       "<pandas.io.formats.style.Styler at 0x7fa20b6f58d0>"
      ]
     },
     "execution_count": 59,
     "metadata": {},
     "output_type": "execute_result"
    }
   ],
   "source": [
    "retention = for_kogort_table_finish.div(for_kogort_table_finish.iloc[:,0], axis = 0)\n",
    "final_table = (retention\n",
    "            .style\n",
    "            .set_caption('Retention by cohort')  # добавляем подпись\n",
    "            .background_gradient(cmap='viridis')  # раскрашиваем ячейки по столбцам\n",
    "            .highlight_null('white')  # делаем белый фон для значений NaN\n",
    "            .format(\"{:.2%}\", na_rep=\"\"))  # числа форматируем как проценты, NaN заменяем на пустоту\n",
    "\n",
    "final_table"
   ]
  },
  {
   "cell_type": "markdown",
   "metadata": {},
   "source": [
    "<div class=\"alert alert-block alert-info\"\n",
    "<b>\n",
    "\n",
    "В период с января по декабрь необходимо было найти когорту с самым высоким retention на 3й месяц.\n",
    "\n",
    "Ответим на вопрос задачи:\n",
    "\n",
    "</b>\n",
    "</div"
   ]
  },
  {
   "cell_type": "code",
   "execution_count": 60,
   "metadata": {},
   "outputs": [
    {
     "data": {
      "text/plain": [
       "Period('2017-05', 'M')"
      ]
     },
     "execution_count": 60,
     "metadata": {},
     "output_type": "execute_result"
    }
   ],
   "source": [
    "retention[2].idxmax()"
   ]
  },
  {
   "cell_type": "markdown",
   "metadata": {},
   "source": [
    "        "
   ]
  },
  {
   "cell_type": "markdown",
   "metadata": {},
   "source": [
    "<div class=\"alert alert-block alert-danger\"\n",
    "<b>\n",
    "<ol>\n",
    "    \n",
    "**Задача 6**\n",
    "    \n",
    "Часто для качественного анализа аудитории использую подходы, основанные на сегментации.\n",
    "    \n",
    "Используя python,построй RFM-сегментацию пользователей, чтобы качественно оценить свою аудиторию.\n",
    "В кластеризации можешь выбрать следующие метрики: \n",
    "* R - время от последней покупки пользователя до текущей даты, \n",
    "* F - суммарное количество покупок у пользователя за всё время, \n",
    "* M - сумма покупок за всё время. \n",
    "    \n",
    "Для каждого RFM-сегмента построй границы метрик recency, frequency и monetary для интерпретации этих кластеров.\n",
    " \n",
    "    \n",
    "</ol>\n",
    "</b>\n",
    "</div>"
   ]
  },
  {
   "cell_type": "markdown",
   "metadata": {},
   "source": [
    "<div class=\"alert alert-block alert-info\"\n",
    "<b>\n",
    "\n",
    "Для начала объединим все три таблицы в одну и сбросим пустые значения\n",
    "\n",
    "</b>\n",
    "</div"
   ]
  },
  {
   "cell_type": "code",
   "execution_count": 61,
   "metadata": {},
   "outputs": [],
   "source": [
    "full_table = merge_orders_items.merge(customers).dropna()  "
   ]
  },
  {
   "cell_type": "markdown",
   "metadata": {},
   "source": [
    "<div class=\"alert alert-block alert-info\"\n",
    "<b>\n",
    "\n",
    "В качестве текущей примем дату самой последней в столбце order_approved_at, увеличенную на 1 день,\n",
    "будто анализируем на следующий день после сбора данных\n",
    "\n",
    "</b>\n",
    "</div"
   ]
  },
  {
   "cell_type": "code",
   "execution_count": 62,
   "metadata": {},
   "outputs": [],
   "source": [
    "yesterday = full_table.order_approved_at.max()"
   ]
  },
  {
   "cell_type": "code",
   "execution_count": 63,
   "metadata": {},
   "outputs": [],
   "source": [
    "today = yesterday + timedelta(days=1)"
   ]
  },
  {
   "cell_type": "markdown",
   "metadata": {},
   "source": [
    "\n",
    "<div class=\"alert alert-block alert-info\"\n",
    "<b>\n",
    "\n",
    "Теперь подготовим данные для RFM\n",
    "\n",
    "</b>\n",
    "</div\n"
   ]
  },
  {
   "cell_type": "code",
   "execution_count": 64,
   "metadata": {},
   "outputs": [],
   "source": [
    "for_rfm = full_table.groupby('customer_unique_id',as_index=False)\\\n",
    "                    .agg({'order_approved_at': lambda x: (today - x.max()).days,\\\n",
    "                          'product_id': lambda x: len(x),\\\n",
    "                          'price': lambda x: x.sum()})\\\n",
    "                    .rename(columns={'order_approved_at': 'R', 'product_id': 'F', 'price': 'M'})"
   ]
  },
  {
   "cell_type": "markdown",
   "metadata": {},
   "source": [
    "\n",
    "<div class=\"alert alert-block alert-info\"\n",
    "<b>\n",
    "\n",
    "Когда имеются значения для RFM, нужно выделить диапазоны\n",
    "\n",
    "Каждый квантиль будет содержать 20%\n",
    "\n",
    "Разбиваем на диапазон: до 20%, 20-40%, 40-60%, 60-80% и выше 80 %\n",
    "\n",
    "</b>\n",
    "</div"
   ]
  },
  {
   "cell_type": "code",
   "execution_count": 65,
   "metadata": {},
   "outputs": [
    {
     "data": {
      "text/html": [
       "<div>\n",
       "<style scoped>\n",
       "    .dataframe tbody tr th:only-of-type {\n",
       "        vertical-align: middle;\n",
       "    }\n",
       "\n",
       "    .dataframe tbody tr th {\n",
       "        vertical-align: top;\n",
       "    }\n",
       "\n",
       "    .dataframe thead th {\n",
       "        text-align: right;\n",
       "    }\n",
       "</style>\n",
       "<table border=\"1\" class=\"dataframe\">\n",
       "  <thead>\n",
       "    <tr style=\"text-align: right;\">\n",
       "      <th></th>\n",
       "      <th>customer_unique_id</th>\n",
       "      <th>R</th>\n",
       "      <th>F</th>\n",
       "      <th>M</th>\n",
       "    </tr>\n",
       "  </thead>\n",
       "  <tbody>\n",
       "    <tr>\n",
       "      <th>0</th>\n",
       "      <td>0000366f3b9a7992bf8c76cfdf3221e2</td>\n",
       "      <td>112</td>\n",
       "      <td>1</td>\n",
       "      <td>129.90</td>\n",
       "    </tr>\n",
       "    <tr>\n",
       "      <th>1</th>\n",
       "      <td>0000b849f77a49e4a4ce2b2a4ca5be3f</td>\n",
       "      <td>114</td>\n",
       "      <td>1</td>\n",
       "      <td>18.90</td>\n",
       "    </tr>\n",
       "    <tr>\n",
       "      <th>2</th>\n",
       "      <td>0000f46a3911fa3c0805444483337064</td>\n",
       "      <td>537</td>\n",
       "      <td>1</td>\n",
       "      <td>69.00</td>\n",
       "    </tr>\n",
       "    <tr>\n",
       "      <th>3</th>\n",
       "      <td>0000f6ccb0745a6a4b88665a16c9f078</td>\n",
       "      <td>321</td>\n",
       "      <td>1</td>\n",
       "      <td>25.99</td>\n",
       "    </tr>\n",
       "    <tr>\n",
       "      <th>4</th>\n",
       "      <td>0004aac84e0df4da2b147fca70cf8255</td>\n",
       "      <td>288</td>\n",
       "      <td>1</td>\n",
       "      <td>180.00</td>\n",
       "    </tr>\n",
       "  </tbody>\n",
       "</table>\n",
       "</div>"
      ],
      "text/plain": [
       "                 customer_unique_id    R  F       M\n",
       "0  0000366f3b9a7992bf8c76cfdf3221e2  112  1  129.90\n",
       "1  0000b849f77a49e4a4ce2b2a4ca5be3f  114  1   18.90\n",
       "2  0000f46a3911fa3c0805444483337064  537  1   69.00\n",
       "3  0000f6ccb0745a6a4b88665a16c9f078  321  1   25.99\n",
       "4  0004aac84e0df4da2b147fca70cf8255  288  1  180.00"
      ]
     },
     "execution_count": 65,
     "metadata": {},
     "output_type": "execute_result"
    }
   ],
   "source": [
    "for_rfm.head()"
   ]
  },
  {
   "cell_type": "code",
   "execution_count": 66,
   "metadata": {},
   "outputs": [
    {
     "data": {
      "text/html": [
       "<div>\n",
       "<style scoped>\n",
       "    .dataframe tbody tr th:only-of-type {\n",
       "        vertical-align: middle;\n",
       "    }\n",
       "\n",
       "    .dataframe tbody tr th {\n",
       "        vertical-align: top;\n",
       "    }\n",
       "\n",
       "    .dataframe thead th {\n",
       "        text-align: right;\n",
       "    }\n",
       "</style>\n",
       "<table border=\"1\" class=\"dataframe\">\n",
       "  <thead>\n",
       "    <tr style=\"text-align: right;\">\n",
       "      <th></th>\n",
       "      <th>R</th>\n",
       "      <th>F</th>\n",
       "      <th>M</th>\n",
       "    </tr>\n",
       "  </thead>\n",
       "  <tbody>\n",
       "    <tr>\n",
       "      <th>0.2</th>\n",
       "      <td>92.0</td>\n",
       "      <td>1.0</td>\n",
       "      <td>39.9</td>\n",
       "    </tr>\n",
       "    <tr>\n",
       "      <th>0.4</th>\n",
       "      <td>177.0</td>\n",
       "      <td>1.0</td>\n",
       "      <td>69.9</td>\n",
       "    </tr>\n",
       "    <tr>\n",
       "      <th>0.6</th>\n",
       "      <td>268.0</td>\n",
       "      <td>1.0</td>\n",
       "      <td>109.9</td>\n",
       "    </tr>\n",
       "    <tr>\n",
       "      <th>0.8</th>\n",
       "      <td>382.0</td>\n",
       "      <td>1.0</td>\n",
       "      <td>179.9</td>\n",
       "    </tr>\n",
       "  </tbody>\n",
       "</table>\n",
       "</div>"
      ],
      "text/plain": [
       "         R    F      M\n",
       "0.2   92.0  1.0   39.9\n",
       "0.4  177.0  1.0   69.9\n",
       "0.6  268.0  1.0  109.9\n",
       "0.8  382.0  1.0  179.9"
      ]
     },
     "execution_count": 66,
     "metadata": {},
     "output_type": "execute_result"
    }
   ],
   "source": [
    "quantiles = for_rfm.quantile(q=[.2, .4, .6, .8])\n",
    "quantiles"
   ]
  },
  {
   "cell_type": "markdown",
   "metadata": {},
   "source": [
    "<div class=\"alert alert-block alert-info\"\n",
    "<b>\n",
    "\n",
    "Выделим сегменты покупателей\n",
    "\n",
    "</b>\n",
    "</div"
   ]
  },
  {
   "cell_type": "code",
   "execution_count": 67,
   "metadata": {},
   "outputs": [],
   "source": [
    "def RClass(value,parameter,quantiles_table):\n",
    "    if value <= quantiles_table[parameter][0.20]:\n",
    "        return 1\n",
    "    elif value <= quantiles_table[parameter][0.40]:\n",
    "        return 2\n",
    "    elif value <= quantiles_table[parameter][0.60]:\n",
    "        return 3\n",
    "    elif value <= quantiles_table[parameter][0.80]:\n",
    "        return 4\n",
    "    else:\n",
    "        return 5\n",
    "    \n",
    "    \n",
    "def FMClass(value,parameter,quantiles_table):\n",
    "    if value <= quantiles[parameter][0.20]:\n",
    "        return 5\n",
    "    elif value <= quantiles[parameter][0.40]:\n",
    "        return 4\n",
    "    elif value <= quantiles[parameter][0.60]:\n",
    "        return 3\n",
    "    elif value <= quantiles_table[parameter][0.80]:\n",
    "        return 2\n",
    "    else:\n",
    "        return 1   "
   ]
  },
  {
   "cell_type": "markdown",
   "metadata": {},
   "source": [
    "<div class=\"alert alert-block alert-info\"\n",
    "<b>\n",
    "\n",
    "Применяем функцию для каждого кластера\n",
    "\n",
    "</b>\n",
    "</div"
   ]
  },
  {
   "cell_type": "code",
   "execution_count": 68,
   "metadata": {},
   "outputs": [],
   "source": [
    "for_rfm['R_range'] = for_rfm['R'].apply(RClass, args=('R',quantiles))\n",
    "\n",
    "for_rfm['F_range'] = for_rfm['F'].apply(FMClass, args=('F',quantiles))\n",
    "\n",
    "for_rfm['M_range'] = for_rfm['M'].apply(FMClass, args=('M',quantiles))\n",
    "\n",
    "for_rfm['RFM_r'] = for_rfm.R_range.map(str) + for_rfm.F_range.map(str) + for_rfm.M_range.map(str)"
   ]
  },
  {
   "cell_type": "code",
   "execution_count": 69,
   "metadata": {},
   "outputs": [
    {
     "data": {
      "text/html": [
       "<div>\n",
       "<style scoped>\n",
       "    .dataframe tbody tr th:only-of-type {\n",
       "        vertical-align: middle;\n",
       "    }\n",
       "\n",
       "    .dataframe tbody tr th {\n",
       "        vertical-align: top;\n",
       "    }\n",
       "\n",
       "    .dataframe thead th {\n",
       "        text-align: right;\n",
       "    }\n",
       "</style>\n",
       "<table border=\"1\" class=\"dataframe\">\n",
       "  <thead>\n",
       "    <tr style=\"text-align: right;\">\n",
       "      <th></th>\n",
       "      <th>customer_unique_id</th>\n",
       "      <th>R</th>\n",
       "      <th>F</th>\n",
       "      <th>M</th>\n",
       "      <th>R_range</th>\n",
       "      <th>F_range</th>\n",
       "      <th>M_range</th>\n",
       "      <th>RFM_r</th>\n",
       "    </tr>\n",
       "  </thead>\n",
       "  <tbody>\n",
       "    <tr>\n",
       "      <th>0</th>\n",
       "      <td>0000366f3b9a7992bf8c76cfdf3221e2</td>\n",
       "      <td>112</td>\n",
       "      <td>1</td>\n",
       "      <td>129.90</td>\n",
       "      <td>2</td>\n",
       "      <td>5</td>\n",
       "      <td>2</td>\n",
       "      <td>252</td>\n",
       "    </tr>\n",
       "    <tr>\n",
       "      <th>1</th>\n",
       "      <td>0000b849f77a49e4a4ce2b2a4ca5be3f</td>\n",
       "      <td>114</td>\n",
       "      <td>1</td>\n",
       "      <td>18.90</td>\n",
       "      <td>2</td>\n",
       "      <td>5</td>\n",
       "      <td>5</td>\n",
       "      <td>255</td>\n",
       "    </tr>\n",
       "    <tr>\n",
       "      <th>2</th>\n",
       "      <td>0000f46a3911fa3c0805444483337064</td>\n",
       "      <td>537</td>\n",
       "      <td>1</td>\n",
       "      <td>69.00</td>\n",
       "      <td>5</td>\n",
       "      <td>5</td>\n",
       "      <td>4</td>\n",
       "      <td>554</td>\n",
       "    </tr>\n",
       "    <tr>\n",
       "      <th>3</th>\n",
       "      <td>0000f6ccb0745a6a4b88665a16c9f078</td>\n",
       "      <td>321</td>\n",
       "      <td>1</td>\n",
       "      <td>25.99</td>\n",
       "      <td>4</td>\n",
       "      <td>5</td>\n",
       "      <td>5</td>\n",
       "      <td>455</td>\n",
       "    </tr>\n",
       "    <tr>\n",
       "      <th>4</th>\n",
       "      <td>0004aac84e0df4da2b147fca70cf8255</td>\n",
       "      <td>288</td>\n",
       "      <td>1</td>\n",
       "      <td>180.00</td>\n",
       "      <td>4</td>\n",
       "      <td>5</td>\n",
       "      <td>1</td>\n",
       "      <td>451</td>\n",
       "    </tr>\n",
       "    <tr>\n",
       "      <th>...</th>\n",
       "      <td>...</td>\n",
       "      <td>...</td>\n",
       "      <td>...</td>\n",
       "      <td>...</td>\n",
       "      <td>...</td>\n",
       "      <td>...</td>\n",
       "      <td>...</td>\n",
       "      <td>...</td>\n",
       "    </tr>\n",
       "    <tr>\n",
       "      <th>93337</th>\n",
       "      <td>fffcf5a5ff07b0908bd4e2dbc735a684</td>\n",
       "      <td>447</td>\n",
       "      <td>2</td>\n",
       "      <td>1570.00</td>\n",
       "      <td>5</td>\n",
       "      <td>1</td>\n",
       "      <td>1</td>\n",
       "      <td>511</td>\n",
       "    </tr>\n",
       "    <tr>\n",
       "      <th>93338</th>\n",
       "      <td>fffea47cd6d3cc0a88bd621562a9d061</td>\n",
       "      <td>262</td>\n",
       "      <td>1</td>\n",
       "      <td>64.89</td>\n",
       "      <td>3</td>\n",
       "      <td>5</td>\n",
       "      <td>4</td>\n",
       "      <td>354</td>\n",
       "    </tr>\n",
       "    <tr>\n",
       "      <th>93339</th>\n",
       "      <td>ffff371b4d645b6ecea244b27531430a</td>\n",
       "      <td>568</td>\n",
       "      <td>1</td>\n",
       "      <td>89.90</td>\n",
       "      <td>5</td>\n",
       "      <td>5</td>\n",
       "      <td>3</td>\n",
       "      <td>553</td>\n",
       "    </tr>\n",
       "    <tr>\n",
       "      <th>93340</th>\n",
       "      <td>ffff5962728ec6157033ef9805bacc48</td>\n",
       "      <td>119</td>\n",
       "      <td>1</td>\n",
       "      <td>115.00</td>\n",
       "      <td>2</td>\n",
       "      <td>5</td>\n",
       "      <td>2</td>\n",
       "      <td>252</td>\n",
       "    </tr>\n",
       "    <tr>\n",
       "      <th>93341</th>\n",
       "      <td>ffffd2657e2aad2907e67c3e9daecbeb</td>\n",
       "      <td>483</td>\n",
       "      <td>1</td>\n",
       "      <td>56.99</td>\n",
       "      <td>5</td>\n",
       "      <td>5</td>\n",
       "      <td>4</td>\n",
       "      <td>554</td>\n",
       "    </tr>\n",
       "  </tbody>\n",
       "</table>\n",
       "<p>93342 rows × 8 columns</p>\n",
       "</div>"
      ],
      "text/plain": [
       "                     customer_unique_id    R  F        M  R_range  F_range  \\\n",
       "0      0000366f3b9a7992bf8c76cfdf3221e2  112  1   129.90        2        5   \n",
       "1      0000b849f77a49e4a4ce2b2a4ca5be3f  114  1    18.90        2        5   \n",
       "2      0000f46a3911fa3c0805444483337064  537  1    69.00        5        5   \n",
       "3      0000f6ccb0745a6a4b88665a16c9f078  321  1    25.99        4        5   \n",
       "4      0004aac84e0df4da2b147fca70cf8255  288  1   180.00        4        5   \n",
       "...                                 ...  ... ..      ...      ...      ...   \n",
       "93337  fffcf5a5ff07b0908bd4e2dbc735a684  447  2  1570.00        5        1   \n",
       "93338  fffea47cd6d3cc0a88bd621562a9d061  262  1    64.89        3        5   \n",
       "93339  ffff371b4d645b6ecea244b27531430a  568  1    89.90        5        5   \n",
       "93340  ffff5962728ec6157033ef9805bacc48  119  1   115.00        2        5   \n",
       "93341  ffffd2657e2aad2907e67c3e9daecbeb  483  1    56.99        5        5   \n",
       "\n",
       "       M_range RFM_r  \n",
       "0            2   252  \n",
       "1            5   255  \n",
       "2            4   554  \n",
       "3            5   455  \n",
       "4            1   451  \n",
       "...        ...   ...  \n",
       "93337        1   511  \n",
       "93338        4   354  \n",
       "93339        3   553  \n",
       "93340        2   252  \n",
       "93341        4   554  \n",
       "\n",
       "[93342 rows x 8 columns]"
      ]
     },
     "execution_count": 69,
     "metadata": {},
     "output_type": "execute_result"
    }
   ],
   "source": [
    "for_rfm"
   ]
  },
  {
   "cell_type": "markdown",
   "metadata": {},
   "source": [
    "<div class=\"alert alert-block alert-info\"\n",
    "<b>\n",
    "\n",
    "Таким образом, выделили сегменты, где 111 - сегмент покупателей, у которых **наименьшее** время с последней покупки, **наибольшее** число заказов и сумма покупок, а 555 - сегмент покупателей, у которых **наибольшее** время с последней покупки, **наименьшее** число заказов и сумма покупок.\n",
    "\n",
    "</b>\n",
    "</div"
   ]
  }
 ],
 "metadata": {
  "kernelspec": {
   "display_name": "Python 3",
   "language": "python",
   "name": "python3"
  },
  "language_info": {
   "codemirror_mode": {
    "name": "ipython",
    "version": 3
   },
   "file_extension": ".py",
   "mimetype": "text/x-python",
   "name": "python",
   "nbconvert_exporter": "python",
   "pygments_lexer": "ipython3",
   "version": "3.7.3"
  }
 },
 "nbformat": 4,
 "nbformat_minor": 4
}
